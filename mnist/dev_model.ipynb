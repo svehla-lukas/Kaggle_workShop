{
 "cells": [
  {
   "cell_type": "markdown",
   "metadata": {},
   "source": [
    "# Imports"
   ]
  },
  {
   "cell_type": "code",
   "execution_count": 1,
   "metadata": {},
   "outputs": [],
   "source": [
    "import numpy as np\n",
    "import tensorflow as tf\n",
    "from tensorflow import keras\n",
    "from tensorflow.keras import layers, models"
   ]
  },
  {
   "cell_type": "code",
   "execution_count": 2,
   "metadata": {},
   "outputs": [],
   "source": [
    "# Load MNIST dataset\n",
    "(x_train_origin, y_train_origin), (x_test_origin, y_test_origin) = (\n",
    "    keras.datasets.mnist.load_data()\n",
    ")"
   ]
  },
  {
   "cell_type": "code",
   "execution_count": 3,
   "metadata": {},
   "outputs": [
    {
     "name": "stdout",
     "output_type": "stream",
     "text": [
      "x_train_origin shape: (60000, 28, 28, 1)\n",
      "y_train_origin shape: (60000,)\n"
     ]
    }
   ],
   "source": [
    "# Normalize pixel values to [0, 1]\n",
    "x_train_origin = x_train_origin.astype(\"float32\") / 255.0\n",
    "x_test_origin = x_test_origin.astype(\"float32\") / 255.0\n",
    "\n",
    "# Add a channel dimension (needed for Conv2D)\n",
    "x_train_origin = np.expand_dims(x_train_origin, -1)\n",
    "x_test_origin = np.expand_dims(x_test_origin, -1)\n",
    "\n",
    "# Convert labels to one-hot encoding (optional for categorical_crossentropy)\n",
    "# y_train_origin = keras.utils.to_categorical(y_train_origin, 10)\n",
    "# y_test_origin = keras.utils.to_categorical(y_test_origin, 10)\n",
    "\n",
    "# Print shapes for confirmation\n",
    "print(f\"x_train_origin shape: {x_train_origin.shape}\")\n",
    "print(f\"y_train_origin shape: {y_train_origin.shape}\")"
   ]
  },
  {
   "cell_type": "code",
   "execution_count": null,
   "metadata": {},
   "outputs": [],
   "source": [
    "print(x_train[0])"
   ]
  },
  {
   "cell_type": "code",
   "execution_count": 5,
   "metadata": {},
   "outputs": [],
   "source": [
    "from sklearn.model_selection import train_test_split\n",
    "\n",
    "train_data, val_data, train_targets, val_targets = train_test_split(\n",
    "    x_train_origin[:2000], y_train_origin[:2000], test_size=0.2, random_state=42\n",
    ")"
   ]
  },
  {
   "cell_type": "code",
   "execution_count": null,
   "metadata": {},
   "outputs": [],
   "source": []
  },
  {
   "cell_type": "code",
   "execution_count": null,
   "metadata": {},
   "outputs": [],
   "source": [
    "from keras import models\n",
    "from keras import layers\n",
    "\n",
    "network = models.Sequential()\n",
    "network.add(layers.Input(shape=(28 * 28,)))\n",
    "network.add(layers.Dense(512, activation=\"relu\"))\n",
    "network.add(layers.Dense(10, activation=\"softmax\"))\n",
    "\n",
    "# Compile\n",
    "network.compile(\n",
    "    optimizer=\"adam\", loss=\"sparse_categorical_crossentropy\", metrics=[\"accuracy\"]\n",
    ")\n",
    "\n",
    "# Train\n",
    "history = network.fit(\n",
    "    train_data,\n",
    "    train_targets,\n",
    "    epochs=10,\n",
    "    batch_size=128,\n",
    "    validation_data=(val_data, val_targets),\n",
    ")"
   ]
  }
 ],
 "metadata": {
  "kernelspec": {
   "display_name": "Python 3",
   "language": "python",
   "name": "python3"
  },
  "language_info": {
   "codemirror_mode": {
    "name": "ipython",
    "version": 3
   },
   "file_extension": ".py",
   "mimetype": "text/x-python",
   "name": "python",
   "nbconvert_exporter": "python",
   "pygments_lexer": "ipython3",
   "version": "3.11.9"
  }
 },
 "nbformat": 4,
 "nbformat_minor": 2
}
