{
 "cells": [
  {
   "cell_type": "code",
   "execution_count": 1,
   "metadata": {},
   "outputs": [],
   "source": [
    "import sys\n",
    "import os\n",
    "\n",
    "sys.path.append(os.path.abspath(\"..\"))\n",
    "import utils\n",
    "import pandas as pd\n",
    "import numpy as np\n",
    "import matplotlib.pyplot as plt"
   ]
  },
  {
   "cell_type": "code",
   "execution_count": 2,
   "metadata": {},
   "outputs": [
    {
     "name": "stdout",
     "output_type": "stream",
     "text": [
      "Successfully loaded data from data_set/train.csv\n",
      "dimension train data: (1460, 81)\n"
     ]
    }
   ],
   "source": [
    "path_train_data = \"data_set/train.csv\"\n",
    "\n",
    "origin_data = utils.load_csv_data(path_train_data)\n",
    "# Debugging: Check the type of train_data\n",
    "\n",
    "# Print the loaded data\n",
    "if isinstance(origin_data, pd.DataFrame):\n",
    "    print(f\"dimension train data: {origin_data.shape}\")\n",
    "else:\n",
    "    print(\"train_data is not a DataFrame\")"
   ]
  },
  {
   "cell_type": "markdown",
   "metadata": {},
   "source": [
    "create target data\n"
   ]
  },
  {
   "cell_type": "code",
   "execution_count": 3,
   "metadata": {},
   "outputs": [
    {
     "name": "stdout",
     "output_type": "stream",
     "text": [
      "(1460,)\n",
      "(1460, 79)\n",
      "<class 'pandas.core.frame.DataFrame'>\n",
      "x_train shape: (1460, 79)\n",
      "y_train shape: (1460,)\n"
     ]
    }
   ],
   "source": [
    "# Get train data\n",
    "y_train = origin_data[\"SalePrice\"]\n",
    "print(y_train.shape)\n",
    "\n",
    "\n",
    "# Drop the Id and sales price column\n",
    "train_data = origin_data.drop(columns=[\"Id\"]).drop(columns=[\"SalePrice\"])\n",
    "print(train_data.shape)\n",
    "\n",
    "print(type(origin_data))\n",
    "# Check the shape of x_train and y_train\n",
    "print(f\"x_train shape: {train_data.shape}\")\n",
    "print(f\"y_train shape: {y_train.shape}\")"
   ]
  },
  {
   "cell_type": "code",
   "execution_count": 4,
   "metadata": {},
   "outputs": [],
   "source": [
    "train_data = utils.auto_clean_columns(train_data)"
   ]
  },
  {
   "cell_type": "markdown",
   "metadata": {},
   "source": [
    "Convert dataset with OneHotEncoder\n"
   ]
  },
  {
   "cell_type": "code",
   "execution_count": 5,
   "metadata": {},
   "outputs": [],
   "source": [
    "from sklearn.preprocessing import StandardScaler, OneHotEncoder\n",
    "from sklearn.compose import ColumnTransformer\n",
    "from sklearn.pipeline import Pipeline\n",
    "from sklearn.model_selection import train_test_split\n",
    "\n",
    "\n",
    "def prepare_features(x_data_frame: pd.DataFrame):\n",
    "    \"\"\"\n",
    "    X_train = vstupní featury (normalizované, zakódované, připravené)\n",
    "    y_train = cílová hodnota (ve tvém případě MSSubClass)\n",
    "    transformer = pipeline pro použití na testovacích datech\n",
    "    \"\"\"\n",
    "    X = x_data_frame.copy()\n",
    "\n",
    "    # # 1. Rozdělení cílové proměnné a vstupů\n",
    "    # y = df[target_column]\n",
    "\n",
    "    # 2. Rozdělení sloupců\n",
    "    numerical_cols = X.select_dtypes(include=[\"int64\", \"float64\"]).columns.tolist()\n",
    "    categorical_cols = X.select_dtypes(include=[\"object\"]).columns.tolist()\n",
    "\n",
    "    # 3. Tvorba transformací\n",
    "    preprocessor = ColumnTransformer(\n",
    "        transformers=[\n",
    "            (\"num\", StandardScaler(), numerical_cols),\n",
    "            (\n",
    "                \"cat\",\n",
    "                OneHotEncoder(handle_unknown=\"ignore\", sparse_output=False),\n",
    "                categorical_cols,\n",
    "            ),\n",
    "        ]\n",
    "    )\n",
    "\n",
    "    # 4. Pipeline (můžeš použít i s modely jako XGBoost, NN atd.)\n",
    "    pipeline = Pipeline(steps=[(\"preprocessor\", preprocessor)])\n",
    "\n",
    "    # 5. Fit + transform vstupní data\n",
    "    X_transformed = pipeline.fit_transform(X)\n",
    "\n",
    "    # 6. Získání názvů nových sloupců (volitelné)\n",
    "    new_columns = []\n",
    "\n",
    "    if numerical_cols:\n",
    "        new_columns += numerical_cols\n",
    "\n",
    "    if categorical_cols:\n",
    "        encoder = pipeline.named_steps[\"preprocessor\"].named_transformers_[\"cat\"]\n",
    "        new_columns += encoder.get_feature_names_out(categorical_cols).tolist()\n",
    "\n",
    "    X_transformed_df = pd.DataFrame(X_transformed, columns=new_columns, index=X.index)\n",
    "\n",
    "    return X_transformed_df, pipeline  # X, y, transformer pro testovací data"
   ]
  },
  {
   "cell_type": "markdown",
   "metadata": {},
   "source": [
    "- X_train = vstupní featury (normalizované, zakódované, připravené)\n",
    "- y_train = cílová hodnota (ve tvém případě MSSubClass)\n",
    "- transformer = pipeline pro použití na testovacích datech\n"
   ]
  },
  {
   "cell_type": "code",
   "execution_count": 6,
   "metadata": {},
   "outputs": [
    {
     "name": "stdout",
     "output_type": "stream",
     "text": [
      "train_data shape: (1460, 79)\n",
      "x_train shape: (1460, 304)\n",
      "y_train shape: (1460,)\n",
      "<class 'pandas.core.frame.DataFrame'>\n",
      "<class 'pandas.core.series.Series'>\n"
     ]
    }
   ],
   "source": [
    "x_train, transformer = prepare_features(train_data)\n",
    "# print(transformer)\n",
    "print(f\"train_data shape: {train_data.shape}\")\n",
    "print(f\"x_train shape: {x_train.shape}\")\n",
    "print(f\"y_train shape: {y_train.shape}\")\n",
    "print(type(x_train))\n",
    "print(type(y_train))"
   ]
  },
  {
   "cell_type": "markdown",
   "metadata": {},
   "source": [
    "## Prepare test data with transformer\n"
   ]
  },
  {
   "cell_type": "code",
   "execution_count": null,
   "metadata": {},
   "outputs": [],
   "source": [
    "path_test_data = \"data_set/test.csv\"\n",
    "\n",
    "test_data = utils.load_csv_data(path_test_data)\n",
    "# Debugging: Check the type of test_data\n",
    "\n",
    "# Print the loaded data\n",
    "if isinstance(test_data, pd.DataFrame):\n",
    "    print(f\"dimension train data: {test_data.shape}\")\n",
    "else:\n",
    "    print(\"test_data is not a DataFrame\")\n",
    "print(type(test_data))"
   ]
  },
  {
   "cell_type": "code",
   "execution_count": null,
   "metadata": {},
   "outputs": [],
   "source": [
    "test_data = test_data.drop(columns=[\"Id\"])\n",
    "print(test_data.shape)\n",
    "test_data = utils.auto_clean_columns(test_data)\n",
    "# test_data = test_data.replace(\"NA\", np.nan)\n",
    "print(type(test_data))"
   ]
  },
  {
   "cell_type": "code",
   "execution_count": null,
   "metadata": {},
   "outputs": [],
   "source": [
    "x_target = transformer.transform(test_data)\n",
    "print(type(x_target))"
   ]
  },
  {
   "cell_type": "markdown",
   "metadata": {},
   "source": [
    "prepare test targets\n"
   ]
  },
  {
   "cell_type": "code",
   "execution_count": null,
   "metadata": {},
   "outputs": [],
   "source": [
    "path_target_data = \"data_set/sample_submission.csv\"\n",
    "\n",
    "target_data = utils.load_csv_data(path_target_data)\n",
    "# Debugging: Check the type of test_data\n",
    "\n",
    "# Print the loaded data\n",
    "if isinstance(target_data, pd.DataFrame):\n",
    "    print(f\"dimension train data: {target_data.shape}\")\n",
    "else:\n",
    "    print(\"test_data is not a DataFrame\")"
   ]
  },
  {
   "cell_type": "code",
   "execution_count": null,
   "metadata": {},
   "outputs": [],
   "source": [
    "y_target = target_data.drop(columns=[\"Id\"])"
   ]
  },
  {
   "cell_type": "code",
   "execution_count": null,
   "metadata": {},
   "outputs": [],
   "source": [
    "print(x_target.shape)\n",
    "print(y_target.shape)\n",
    "print(type(x_target))\n",
    "print(type(y_target))"
   ]
  },
  {
   "cell_type": "code",
   "execution_count": null,
   "metadata": {},
   "outputs": [],
   "source": [
    "# # Se jmény sloupců z transformace\n",
    "# num_cols = transformer.named_steps[\"preprocessor\"].transformers_[0][2]\n",
    "# cat_encoder = transformer.named_steps[\"preprocessor\"].named_transformers_[\"cat\"]\n",
    "# cat_cols = cat_encoder.get_feature_names_out(\n",
    "#     transformer.named_steps[\"preprocessor\"].transformers_[1][2]\n",
    "# )\n",
    "\n",
    "# all_cols = list(num_cols) + list(cat_cols)\n",
    "\n",
    "# # Převod na DataFrame\n",
    "# import pandas as pd\n",
    "\n",
    "# x_target = pd.DataFrame(x_target, columns=all_cols, index=test_data.index)\n",
    "# print(type(y_target))"
   ]
  },
  {
   "cell_type": "markdown",
   "metadata": {},
   "source": [
    "# Create and Train model\n"
   ]
  },
  {
   "cell_type": "code",
   "execution_count": null,
   "metadata": {},
   "outputs": [],
   "source": [
    "print(x_train.shape)\n",
    "print(y_train.shape)\n",
    "print(x_target.shape)\n",
    "print(y_target.shape)"
   ]
  },
  {
   "cell_type": "code",
   "execution_count": null,
   "metadata": {},
   "outputs": [],
   "source": [
    "print(type(x_train))\n",
    "print(type(y_train))\n",
    "print(type(x_target))\n",
    "print(type(y_target))"
   ]
  },
  {
   "cell_type": "code",
   "execution_count": null,
   "metadata": {},
   "outputs": [],
   "source": [
    "# Convert pd.DataFrame to np.ndarray\n",
    "x_train = x_train.to_numpy()\n",
    "y_train = y_train.to_numpy()\n",
    "\n",
    "# x_target = x_target.to_numpy()\n",
    "y_target = y_target.to_numpy()"
   ]
  },
  {
   "cell_type": "code",
   "execution_count": null,
   "metadata": {},
   "outputs": [],
   "source": [
    "num_val_samples = len(x_train)\n",
    "print(num_val_samples)\n",
    "\n",
    "samples_target = num_val_samples * 4 // 5\n",
    "print(samples_target)\n",
    "\n",
    "val_data = x_train[:samples_target]\n",
    "val_targets = y_train[samples_target:]"
   ]
  },
  {
   "cell_type": "code",
   "execution_count": null,
   "metadata": {},
   "outputs": [],
   "source": [
    "i = 0\n",
    "\n",
    "k = 4\n",
    "num_val_samples = len(x_train) // k\n",
    "print(num_val_samples)\n",
    "print(f\"processing fold # {i}\")\n",
    "print(target_data.shape)\n",
    "val_data = x_train[i * num_val_samples : (i + 1) * num_val_samples]\n",
    "val_targets = y_train[i * num_val_samples : (i + 1) * num_val_samples]\n",
    "print(val_data.shape)\n",
    "print(val_targets.shape)\n",
    "\n",
    "partial_train_data = pd.concat(\n",
    "    [x_train[: i * num_val_samples], x_train[(i + 1) * num_val_samples :]]\n",
    ")\n",
    "partial_train_targets = pd.concat(\n",
    "    [y_train[: i * num_val_samples], y_train[(i + 1) * num_val_samples :]]\n",
    ")\n",
    "print(partial_train_data.shape)\n",
    "print(partial_train_targets.shape)\n",
    "# print(partial_train_data.shape)\n",
    "print(x_train.shape[1])"
   ]
  },
  {
   "cell_type": "markdown",
   "metadata": {},
   "source": [
    "### K Fold validation"
   ]
  },
  {
   "cell_type": "code",
   "execution_count": null,
   "metadata": {},
   "outputs": [],
   "source": [
    "import keras\n",
    "import time\n",
    "\n",
    "start = time.time()\n",
    "\n",
    "\n",
    "def build_model(input_parameters):\n",
    "    input_shape = (input_parameters,)  # 304 parameters of house\n",
    "    model = keras.models.Sequential()\n",
    "    model.add(keras.layers.Dense(838, activation=\"relu\", input_shape=input_shape))\n",
    "    model.add(keras.layers.BatchNormalization())\n",
    "    model.add(keras.layers.Dropout(0.3))\n",
    "    model.add(keras.layers.Dense(1600, activation=\"relu\"))\n",
    "    model.add(keras.layers.Dense(1))  # regresní výstup\n",
    "    model.compile(optimizer=\"adam\", loss=\"mse\", metrics=[\"mae\"])\n",
    "    return model\n",
    "\n",
    "\n",
    "k = 1\n",
    "num_val_samples = len(x_train) // k\n",
    "num_epochs = 10\n",
    "all_scores = []\n",
    "all_histories = []\n",
    "\n",
    "\n",
    "for i in range(k):\n",
    "    print(f\"processing fold # {i}\")\n",
    "    val_data = x_train[i * num_val_samples : (i + 1) * num_val_samples]\n",
    "    val_targets = y_train[i * num_val_samples : (i + 1) * num_val_samples]\n",
    "    partial_train_data = pd.concat(\n",
    "        [x_train[: i * num_val_samples], x_train[(i + 1) * num_val_samples :]]\n",
    "    )\n",
    "    partial_train_targets = pd.concat(\n",
    "        [y_train[: i * num_val_samples], y_train[(i + 1) * num_val_samples :]]\n",
    "    )\n",
    "\n",
    "    model = build_model(x_train.shape[1])\n",
    "    print(\"- 🧠 Spouštím trénování...\")\n",
    "    history = model.fit(\n",
    "        partial_train_data,\n",
    "        partial_train_targets,\n",
    "        validation_data=(val_data, val_targets),\n",
    "        epochs=num_epochs,\n",
    "        batch_size=64,\n",
    "        verbose=0,\n",
    "    )\n",
    "\n",
    "    val_mse, val_mae = model.evaluate(val_data, val_targets, verbose=0)\n",
    "    print(f\"- ✅ Fold {i + 1} finished: val_mae = {val_mae:.2f}\")\n",
    "    _ = utils.plot_history(history.history, metric=\"mae\")\n",
    "    all_scores.append(val_mae)\n",
    "    all_histories.append(history)\n",
    "\n",
    "print(all_scores)\n",
    "print(f\"🕒 Celkový čas trénování: {time.time() - start:.2f} s\")"
   ]
  },
  {
   "cell_type": "code",
   "execution_count": null,
   "metadata": {},
   "outputs": [],
   "source": [
    "# Rozdělení před přípravou\n",
    "train_df, val_df = train_test_split(origin_data, test_size=0.2, random_state=42)\n",
    "\n",
    "# y\n",
    "y_train = train_df[\"SalePrice\"].to_numpy()\n",
    "y_val = val_df[\"SalePrice\"].to_numpy()\n",
    "\n",
    "# X (bez 'Id' a 'SalePrice')\n",
    "train_data = train_df.drop(columns=[\"Id\", \"SalePrice\"])\n",
    "val_data = val_df.drop(columns=[\"Id\", \"SalePrice\"])\n",
    "\n",
    "# Čištění\n",
    "train_data_clean = utils.auto_clean_columns(train_data)\n",
    "val_data_clean = utils.auto_clean_columns(val_data)\n",
    "\n",
    "# Feature preparation\n",
    "x_train, transformer = prepare_features(train_data_clean)\n",
    "x_val = transformer.transform(val_data_clean)"
   ]
  },
  {
   "cell_type": "code",
   "execution_count": null,
   "metadata": {},
   "outputs": [
    {
     "name": "stdout",
     "output_type": "stream",
     "text": [
      "61\n"
     ]
    }
   ],
   "source": [
    "print(np.isnan(x_val).sum())  # musí být 0"
   ]
  },
  {
   "cell_type": "code",
   "execution_count": 10,
   "metadata": {},
   "outputs": [
    {
     "name": "stderr",
     "output_type": "stream",
     "text": [
      "C:\\Users\\Libor\\AppData\\Local\\Packages\\PythonSoftwareFoundation.Python.3.11_qbz5n2kfra8p0\\LocalCache\\local-packages\\Python311\\site-packages\\keras\\src\\layers\\core\\dense.py:87: UserWarning: Do not pass an `input_shape`/`input_dim` argument to a layer. When using Sequential models, prefer using an `Input(shape)` object as the first layer in the model instead.\n",
      "  super().__init__(activity_regularizer=activity_regularizer, **kwargs)\n"
     ]
    },
    {
     "name": "stdout",
     "output_type": "stream",
     "text": [
      "- ✅ finished: val_mae = 59327.77\n"
     ]
    },
    {
     "data": {
      "image/png": "[encoded data removed]",
      "text/plain": [
       "<Figure size 1000x600 with 1 Axes>"
      ]
     },
     "metadata": {},
     "output_type": "display_data"
    },
    {
     "name": "stdout",
     "output_type": "stream",
     "text": [
      "59327.7734375\n",
      "🕒 Celkový čas trénování: 8.23 s\n"
     ]
    }
   ],
   "source": [
    "from sklearn.model_selection import train_test_split\n",
    "import keras\n",
    "import time\n",
    "\n",
    "start = time.time()\n",
    "\n",
    "\n",
    "def build_model(input_parameters):\n",
    "    input_shape = (input_parameters,)  # 304 parameters of house\n",
    "    model = keras.models.Sequential()\n",
    "    model.add(keras.layers.Dense(838, activation=\"relu\", input_shape=input_shape))\n",
    "    model.add(keras.layers.BatchNormalization())\n",
    "    model.add(keras.layers.Dropout(0.3))\n",
    "    model.add(keras.layers.Dense(838, activation=\"relu\"))\n",
    "    model.add(keras.layers.Dense(1))  # regresní výstup\n",
    "    model.compile(optimizer=\"adam\", loss=\"mse\", metrics=[\"mae\"])\n",
    "    return model\n",
    "\n",
    "\n",
    "num_epochs = 25\n",
    "\n",
    "x_train_part, x_val, y_train_part, y_val = train_test_split(\n",
    "    x_train, y_train, test_size=0.2, random_state=42\n",
    ")\n",
    "\n",
    "model = build_model(x_train.shape[1])\n",
    "history = model.fit(\n",
    "    x_train_part,\n",
    "    y_train_part,\n",
    "    epochs=num_epochs,\n",
    "    batch_size=64,\n",
    "    validation_data=(x_val, y_val),\n",
    "    verbose=0,\n",
    ")\n",
    "\n",
    "\n",
    "val_mse, val_mae = model.evaluate(x_val, y_val, verbose=0)\n",
    "print(f\"- ✅ finished: val_mae = {val_mae:.2f}\")\n",
    "_ = utils.plot_history(history.history, metric=\"mae\")\n",
    "\n",
    "print(val_mae)\n",
    "print(f\"🕒 Celkový čas trénování: {time.time() - start:.2f} s\")"
   ]
  },
  {
   "cell_type": "code",
   "execution_count": null,
   "metadata": {},
   "outputs": [],
   "source": [
    "model.save(\"house_prices_oneSotEncoder.keras\")"
   ]
  },
  {
   "cell_type": "markdown",
   "metadata": {},
   "source": [
    "Test on train data"
   ]
  },
  {
   "cell_type": "code",
   "execution_count": 13,
   "metadata": {},
   "outputs": [
    {
     "name": "stdout",
     "output_type": "stream",
     "text": [
      "Min: 34,900 USD\n",
      "Max: 755,000 USD\n",
      "Mean: 180,921 USD\n",
      "diff = 45,750 USD | prediction = 162,749 USD | target = 208,500 USD\n",
      "diff = 18,750 USD | prediction = 162,749 USD | target = 181,500 USD\n",
      "diff = 60,750 USD | prediction = 162,749 USD | target = 223,500 USD\n",
      "diff = -22,749 USD | prediction = 162,749 USD | target = 140,000 USD\n",
      "diff = 87,250 USD | prediction = 162,749 USD | target = 250,000 USD\n",
      "diff = -19,749 USD | prediction = 162,749 USD | target = 143,000 USD\n",
      "diff = 144,250 USD | prediction = 162,749 USD | target = 307,000 USD\n",
      "diff = 37,250 USD | prediction = 162,749 USD | target = 200,000 USD\n",
      "diff = -32,849 USD | prediction = 162,749 USD | target = 129,900 USD\n",
      "diff = -44,749 USD | prediction = 162,749 USD | target = 118,000 USD\n",
      "\n",
      "min_diff = -44,749 USD |\n",
      "max_diff = 144,250 USD |\n"
     ]
    },
    {
     "data": {
      "image/png": "[encoded data removed]",
      "text/plain": [
       "<Figure size 1000x600 with 1 Axes>"
      ]
     },
     "metadata": {},
     "output_type": "display_data"
    }
   ],
   "source": [
    "import matplotlib.pyplot as plt\n",
    "\n",
    "print(f\"Min: {y_train.min():,.0f} USD\")\n",
    "print(f\"Max: {y_train.max():,.0f} USD\")\n",
    "print(f\"Mean: {y_train.mean():,.0f} USD\")\n",
    "\n",
    "max_diff = 0\n",
    "min_diff = 0\n",
    "count = 10  # nebo x_train.shape[0] podle potřeby\n",
    "\n",
    "for i in range(count):\n",
    "    features = x_train[i].reshape(1, -1)\n",
    "    prediction = model.predict(features, verbose=0)[0][0]\n",
    "    true_value = y_train[i]\n",
    "\n",
    "    diff = int(true_value - prediction)\n",
    "    pred_int = int(prediction)\n",
    "    true_int = int(true_value)\n",
    "\n",
    "    if diff > max_diff:\n",
    "        max_diff = diff\n",
    "    elif diff < min_diff:\n",
    "        min_diff = diff\n",
    "\n",
    "    print(\n",
    "        f\"diff = {format(diff, ',')} USD | \"\n",
    "        f\"prediction = {format(pred_int, ',')} USD | \"\n",
    "        f\"target = {format(true_int, ',')} USD\"\n",
    "    )\n",
    "\n",
    "print(\n",
    "    f\"\\nmin_diff = {format(min_diff, ',')} USD |\"\n",
    "    f\"\\nmax_diff = {format(max_diff, ',')} USD |\"\n",
    ")\n",
    "\n",
    "# Výpočet predikcí a graf\n",
    "preds = [\n",
    "    model.predict(x_train[i].reshape(1, -1), verbose=0)[0][0] for i in range(count)\n",
    "]\n",
    "trues = y_train[:count]\n",
    "\n",
    "plt.figure(figsize=(10, 6))\n",
    "plt.plot(trues, marker=\"o\", label=\"Skutečné ceny\")\n",
    "plt.plot(preds, marker=\"o\", label=\"Predikované ceny\")\n",
    "plt.title(\"Porovnání predikce vs. skutečnost (trénovací data)\")\n",
    "plt.xlabel(\"Index\")\n",
    "plt.ylabel(\"Cena (v USD)\")\n",
    "plt.legend()\n",
    "plt.grid(True)\n",
    "plt.show()"
   ]
  },
  {
   "cell_type": "code",
   "execution_count": 11,
   "metadata": {},
   "outputs": [
    {
     "name": "stdout",
     "output_type": "stream",
     "text": [
      "[[ 0.07337496 -0.20803433 -0.20714171 ...  0.          1.\n",
      "   0.        ]\n",
      " [-0.87256276  0.40989452 -0.09188637 ...  0.          1.\n",
      "   0.        ]\n",
      " [ 0.07337496 -0.08444856  0.07347998 ...  0.          1.\n",
      "   0.        ]\n",
      " [ 0.30985939 -0.41401061 -0.09689747 ...  0.          0.\n",
      "   0.        ]\n",
      " [ 0.07337496  0.57467554  0.37514829 ...  0.          1.\n",
      "   0.        ]]\n"
     ]
    }
   ],
   "source": [
    "print(x_train[:5])"
   ]
  },
  {
   "cell_type": "code",
   "execution_count": 12,
   "metadata": {},
   "outputs": [
    {
     "name": "stdout",
     "output_type": "stream",
     "text": [
      "[1.                nan 1.         1.         1.         1.\n",
      " 1.                nan 1.         1.         1.         1.\n",
      " 1.         1.         1.         1.         1.         1.\n",
      " 1.         1.         1.         1.         1.         1.\n",
      "        nan 1.         1.         1.         1.         1.\n",
      " 1.         1.         1.         1.         1.         1.\n",
      " 0.08247668 0.20624856 0.10410959 0.40847365 0.35639876 0.06397422\n",
      " 0.06397422 0.18186189 0.24175172 0.16520769 0.47075477 0.16520769\n",
      " 0.08247668 0.48183118 0.20319622 0.18186189 0.15507914 0.30272036\n",
      " 0.02616223 0.02616223 0.38430151 0.24543496 0.17650912 0.05227064\n",
      " 0.44872999 0.22487878 0.20624856 0.09394055 0.10727654 0.0369863\n",
      " 0.10410959 0.1953148  0.13715059 0.30361863 0.18360636 0.25259026\n",
      " 0.22623382 0.15716305 0.10727654 0.18009792 0.36105377 0.16520769\n",
      " 0.07827122 0.22351342 0.21794495 0.26722074 0.21935353 0.19692108\n",
      " 0.23544514 0.1297308  0.1297308  0.15921674 0.08647243 0.17831386\n",
      " 0.2289137  0.34383289 0.07382024 0.11333288 0.08647243 0.13225387\n",
      " 0.0369863  0.05842028 0.0369863  0.06397422 0.10083857 0.02616223\n",
      " 0.0369863  0.02616223 0.02616223 0.0369863  0.37062327 0.14415978\n",
      " 0.18533189 0.1690699  0.26830088 0.30717021 0.09745302 0.49999249\n",
      " 0.07382024 0.08647243 0.46032035 0.15716305 0.20624856 0.09394055\n",
      " 0.41322378 0.08647243 0.39688456 0.06907628 0.0369863  0.02616223\n",
      " 0.13225387 0.02616223 0.02616223 0.02616223 0.08647243 0.05842028\n",
      " 0.06397422 0.11623673 0.02616223 0.0369863  0.18186189 0.02616223\n",
      " 0.20008794 0.359074   0.02616223 0.3577415  0.2617263  0.0369863\n",
      " 0.1297308  0.47782257 0.34812044 0.13225387 0.11623673 0.04528325\n",
      " 0.06907628 0.1297308  0.02616223 0.19851201 0.3488252  0.08247668\n",
      " 0.35368208 0.02616223 0.29631185 0.05842028 0.13225387 0.47543523\n",
      " 0.3416504  0.15921674 0.10083857 0.46032035 0.07382024 0.4915041\n",
      " 0.28281617 0.18533189 0.09745302 0.47172641 0.48525065 0.04528325\n",
      " 0.13715059 0.3        0.02616223 0.32719086 0.3        0.49565763\n",
      " 0.49675764 0.12715399 0.06397422 0.04528325 0.27569578 0.15296378\n",
      " 0.49408017 0.15716305 0.4969125  0.17283497 0.20624856 0.15716305\n",
      " 0.0369863  0.30272036 0.35840902 0.2887163  0.26830088 0.15921674\n",
      " 0.47609933 0.3577415  0.30181785 0.45203196 0.21935353 0.15716305\n",
      " 0.28774542 0.45582694 0.11333288 0.14863329 0.09745302 0.17468305\n",
      " 0.15921674 0.18872815 0.34670256 0.02616223 0.14641522 0.1103484\n",
      " 0.06907628 0.0369863  0.05227064 0.49994323 0.18009792 0.37124235\n",
      " 0.02616223 0.45520694 0.24664668 0.24664668 0.24543496 0.13472622\n",
      " 0.04528325 0.02616223 0.02616223 0.28080855 0.25259026 0.16124137\n",
      " 0.49017558 0.49998827 0.09745302 0.05842028 0.14415978 0.15081563\n",
      " 0.10083857 0.02616223 0.25259026 0.12715399 0.14863329 0.43878404\n",
      " 0.49924883 0.11623673 0.41039402 0.06397422 0.49071889 0.11333288\n",
      " 0.23799374 0.07827122 0.44136967 0.2289137  0.42774836 0.2289137\n",
      " 0.45331704 0.49261529 0.04528325 0.17831386 0.09745302 0.2289137\n",
      " 0.04528325 0.30272036 0.0369863  0.15296378 0.07827122 0.2289137\n",
      " 0.06907628 0.2887163  0.24050753 0.14186517 0.27465668 0.0369863\n",
      " 0.0369863  0.04528325 0.06907628 0.19692108 0.18872815 0.30979127\n",
      " 0.08647243 0.39423684 0.0369863  0.18872815 0.0369863  0.18009792\n",
      " 0.02616223 0.1690699  0.0369863  0.07827122 0.05842028 0.05842028\n",
      " 0.05227064 0.27672928 0.04528325 0.33869915 0.25375672 0.05227064\n",
      " 0.09028634 0.11623673 0.38373039 0.27979683]\n"
     ]
    }
   ],
   "source": [
    "print(np.std(x_train, axis=0))  # směrodatná odchylka po sloupcích"
   ]
  },
  {
   "cell_type": "code",
   "execution_count": null,
   "metadata": {},
   "outputs": [],
   "source": [
    "print(np.min(x_train, axis=0))\n",
    "print(np.max(x_train, axis=0))\n",
    "print(np.mean(x_train, axis=0))\n",
    "print(np.std(x_train, axis=0))"
   ]
  },
  {
   "cell_type": "markdown",
   "metadata": {},
   "source": [
    "# ruin model on target data"
   ]
  },
  {
   "cell_type": "code",
   "execution_count": null,
   "metadata": {},
   "outputs": [],
   "source": [
    "print(type(x_train))\n",
    "print(type(y_train))\n",
    "print(type(x_target))\n",
    "print(type(y_target))\n",
    "print(x_train.shape)\n",
    "print(y_train.shape)\n",
    "print(x_target.shape)\n",
    "print(y_target.shape)"
   ]
  },
  {
   "cell_type": "code",
   "execution_count": null,
   "metadata": {},
   "outputs": [],
   "source": [
    "import matplotlib.pyplot as plt\n",
    "\n",
    "print(f\"Min: {y_target.min():,.0f} USD\")\n",
    "print(f\"Max: {y_target.max():,.0f} USD\")\n",
    "print(f\"Mean: {y_target.mean():,.0f} USD\")\n",
    "\n",
    "max_diff = 0\n",
    "min_diff = 0\n",
    "count = 10  # nebo x_target.shape[0] podle potřeby\n",
    "\n",
    "for i in range(count):\n",
    "    features = x_target[i].reshape(1, -1)  # bez .iloc\n",
    "    prediction = model.predict(features, verbose=0)[0][0]\n",
    "    target_value = y_target[i]\n",
    "\n",
    "    diff = int(target_value - prediction)\n",
    "    pred_int = int(prediction)\n",
    "    target_int = int(target_value)\n",
    "\n",
    "    if diff > max_diff:\n",
    "        max_diff = diff\n",
    "    elif diff < min_diff:\n",
    "        min_diff = diff\n",
    "\n",
    "    print(\n",
    "        f\"diff = {format(diff, ',')} USD | \"\n",
    "        f\"prediction = {format(pred_int, ',')} USD | \"\n",
    "        f\"target = {format(target_int, ',')} USD\"\n",
    "    )\n",
    "\n",
    "print(\n",
    "    f\"\\nmin_diff = {format(min_diff, ',')} USD |\"\n",
    "    f\"\\nmax_diff = {format(max_diff, ',')} USD |\"\n",
    ")\n",
    "\n",
    "# Výpočet predikcí a vykreslení grafu\n",
    "preds = [\n",
    "    model.predict(x_target[i].reshape(1, -1), verbose=0)[0][0] for i in range(count)\n",
    "]\n",
    "trues = y_target[:count]\n",
    "\n",
    "plt.figure(figsize=(10, 6))\n",
    "plt.plot(trues, marker=\"o\", label=\"Skutečné ceny\")\n",
    "plt.plot(preds, marker=\"o\", label=\"Predikované ceny\")\n",
    "plt.title(\"Porovnání predikce vs. skutečnost\")\n",
    "plt.xlabel(\"Index\")\n",
    "plt.ylabel(\"Cena (v USD)\")\n",
    "plt.legend()\n",
    "plt.grid(True)\n",
    "plt.show()"
   ]
  },
  {
   "cell_type": "markdown",
   "metadata": {},
   "source": [
    "# other"
   ]
  },
  {
   "cell_type": "code",
   "execution_count": null,
   "metadata": {},
   "outputs": [],
   "source": [
    "print(\"\\n\" + \"=\" * 50)\n",
    "print(\"📊 Výsledky cross-validace:\")\n",
    "for i, score in enumerate(all_scores):\n",
    "    print(f\"Fold {i + 1}: MAE = {score:.2f}\")\n",
    "\n",
    "average = np.mean(all_scores)\n",
    "print(\"-\" * 50)\n",
    "print(f\"📈 Průměrná MAE přes {k} foldů: {average:.2f}\")\n",
    "\n",
    "epoch_maes = [\n",
    "    [history.history[\"mae\"][epoch] for history in all_histories]\n",
    "    for epoch in range(num_epochs)\n",
    "]\n",
    "average_mae_history = [np.mean(epoch) for epoch in epoch_maes]\n",
    "std_mae_history = [np.std(epoch) for epoch in epoch_maes]\n",
    "\n",
    "plt.figure(figsize=(10, 6))\n",
    "plt.plot(\n",
    "    range(1, num_epochs + 1), average_mae_history, marker=\"o\", label=\"Průměrná MAE\"\n",
    ")\n",
    "plt.fill_between(\n",
    "    range(1, num_epochs + 1),\n",
    "    np.array(average_mae_history) - np.array(std_mae_history),\n",
    "    np.array(average_mae_history) + np.array(std_mae_history),\n",
    "    alpha=0.2,\n",
    "    label=\"± 1 std\",\n",
    ")\n",
    "plt.xlabel(\"Epoch\")\n",
    "plt.ylabel(\"Mean Absolute Error (MAE)\")\n",
    "plt.title(\"📈 Průměrná MAE s rozptylem (všechny foldy)\")\n",
    "plt.grid(True)\n",
    "plt.legend()\n",
    "plt.tight_layout()\n",
    "plt.show()"
   ]
  },
  {
   "cell_type": "code",
   "execution_count": null,
   "metadata": {},
   "outputs": [],
   "source": [
    "for i in range(10):\n",
    "    predictions = model.predict(x_target.iloc[[i]], verbose=0)\n",
    "    target_value = y_target.iloc[i]\n",
    "\n",
    "    diff = int(target_value - predictions[0][0])\n",
    "    pred = int(predictions[0][0])\n",
    "    target = int(target_value)\n",
    "\n",
    "    print(\n",
    "        f\"diff = {format(diff, ',').replace(',', ' ')} USD | \"\n",
    "        f\"prediction = {format(pred, ',').replace(',', ' ')} USD | \"\n",
    "        f\"target = {format(target, ',').replace(',', ' ')} USD\"\n",
    "    )"
   ]
  }
 ],
 "metadata": {
  "kernelspec": {
   "display_name": "Python 3",
   "language": "python",
   "name": "python3"
  },
  "language_info": {
   "codemirror_mode": {
    "name": "ipython",
    "version": 3
   },
   "file_extension": ".py",
   "mimetype": "text/x-python",
   "name": "python",
   "nbconvert_exporter": "python",
   "pygments_lexer": "ipython3",
   "version": "3.11.9"
  }
 },
 "nbformat": 4,
 "nbformat_minor": 2
}
