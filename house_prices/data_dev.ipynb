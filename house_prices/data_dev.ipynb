{
 "cells": [
  {
   "cell_type": "code",
   "execution_count": 17,
   "metadata": {},
   "outputs": [],
   "source": [
    "import utils_io\n",
    "import pandas as pd\n",
    "import numpy as np\n",
    "import matplotlib.pyplot as plt"
   ]
  },
  {
   "cell_type": "code",
   "execution_count": 2,
   "metadata": {},
   "outputs": [
    {
     "name": "stdout",
     "output_type": "stream",
     "text": [
      "Successfully loaded data from data_set/train.csv\n",
      "dimension train data: (1460, 81)\n"
     ]
    }
   ],
   "source": [
    "path_train_data = \"data_set/train.csv\"\n",
    "\n",
    "train_data = utils_io.load_csv_data(path_train_data)\n",
    "# Debugging: Check the type of train_data\n",
    "\n",
    "# Print the loaded data\n",
    "if isinstance(train_data, pd.DataFrame):\n",
    "    print(f\"dimension train data: {train_data.shape}\")\n",
    "else:\n",
    "    print(\"train_data is not a DataFrame\")"
   ]
  },
  {
   "cell_type": "code",
   "execution_count": null,
   "metadata": {},
   "outputs": [],
   "source": [
    "printdata = train_data.iloc[:10]\n",
    "print(train_data.shape)\n",
    "print(printdata)"
   ]
  },
  {
   "cell_type": "code",
   "execution_count": 3,
   "metadata": {},
   "outputs": [
    {
     "name": "stdout",
     "output_type": "stream",
     "text": [
      "(1460,)\n",
      "(1460, 79)\n"
     ]
    }
   ],
   "source": [
    "# Get target data\n",
    "target_data = train_data[\"SalePrice\"]\n",
    "print(target_data.shape)\n",
    "\n",
    "\n",
    "# Drop the Id and sales price column\n",
    "train_data = train_data.drop(columns=[\"Id\"])\n",
    "train_data = train_data.drop(columns=[\"SalePrice\"])\n",
    "print(train_data.shape)"
   ]
  },
  {
   "cell_type": "markdown",
   "metadata": {},
   "source": [
    "# Normalization\n"
   ]
  },
  {
   "cell_type": "markdown",
   "metadata": {},
   "source": [
    "Prepare data description auto generate json file\n"
   ]
  },
  {
   "cell_type": "code",
   "execution_count": 4,
   "metadata": {},
   "outputs": [
    {
     "name": "stdout",
     "output_type": "stream",
     "text": [
      "      MSSubClass MSZoning  LotFrontage  LotArea Street Alley LotShape  \\\n",
      "0             60       RL         65.0     8450   PAVE    NA      REG   \n",
      "1             20       RL         80.0     9600   PAVE    NA      REG   \n",
      "2             60       RL         68.0    11250   PAVE    NA      IR1   \n",
      "3             70       RL         60.0     9550   PAVE    NA      IR1   \n",
      "4             60       RL         84.0    14260   PAVE    NA      IR1   \n",
      "...          ...      ...          ...      ...    ...   ...      ...   \n",
      "1455          60       RL         62.0     7917   PAVE    NA      REG   \n",
      "1456          20       RL         85.0    13175   PAVE    NA      REG   \n",
      "1457          70       RL         66.0     9042   PAVE    NA      REG   \n",
      "1458          20       RL         68.0     9717   PAVE    NA      REG   \n",
      "1459          20       RL         75.0     9937   PAVE    NA      REG   \n",
      "\n",
      "     LandContour Utilities LotConfig  ... ScreenPorch PoolArea PoolQC  Fence  \\\n",
      "0            LVL    ALLPUB    INSIDE  ...           0        0     NA     NA   \n",
      "1            LVL    ALLPUB       FR2  ...           0        0     NA     NA   \n",
      "2            LVL    ALLPUB    INSIDE  ...           0        0     NA     NA   \n",
      "3            LVL    ALLPUB    CORNER  ...           0        0     NA     NA   \n",
      "4            LVL    ALLPUB       FR2  ...           0        0     NA     NA   \n",
      "...          ...       ...       ...  ...         ...      ...    ...    ...   \n",
      "1455         LVL    ALLPUB    INSIDE  ...           0        0     NA     NA   \n",
      "1456         LVL    ALLPUB    INSIDE  ...           0        0     NA  MNPRV   \n",
      "1457         LVL    ALLPUB    INSIDE  ...           0        0     NA  GDPRV   \n",
      "1458         LVL    ALLPUB    INSIDE  ...           0        0     NA     NA   \n",
      "1459         LVL    ALLPUB    INSIDE  ...           0        0     NA     NA   \n",
      "\n",
      "     MiscFeature MiscVal  MoSold  YrSold  SaleType  SaleCondition  \n",
      "0             NA       0       2    2008        WD         NORMAL  \n",
      "1             NA       0       5    2007        WD         NORMAL  \n",
      "2             NA       0       9    2008        WD         NORMAL  \n",
      "3             NA       0       2    2006        WD        ABNORML  \n",
      "4             NA       0      12    2008        WD         NORMAL  \n",
      "...          ...     ...     ...     ...       ...            ...  \n",
      "1455          NA       0       8    2007        WD         NORMAL  \n",
      "1456          NA       0       2    2010        WD         NORMAL  \n",
      "1457        SHED    2500       5    2010        WD         NORMAL  \n",
      "1458          NA       0       4    2010        WD         NORMAL  \n",
      "1459          NA       0       6    2008        WD         NORMAL  \n",
      "\n",
      "[1460 rows x 79 columns]\n"
     ]
    }
   ],
   "source": [
    "import pandas as pd\n",
    "import numpy as np\n",
    "\n",
    "\n",
    "def auto_clean_columns(df: pd.DataFrame) -> pd.DataFrame:\n",
    "    df_cleaned = df.copy()\n",
    "\n",
    "    for column in df_cleaned.columns:\n",
    "        values = df_cleaned[column].dropna().unique()\n",
    "\n",
    "        # Pokud vše je číslo nebo 'NA' → převedeme na float\n",
    "        can_be_numeric = True\n",
    "        for v in values:\n",
    "            if isinstance(v, str) and v.strip().upper() == \"NA\":\n",
    "                continue\n",
    "            try:\n",
    "                float(v)\n",
    "            except:\n",
    "                can_be_numeric = False\n",
    "                break\n",
    "\n",
    "        if can_be_numeric:\n",
    "            # Převést \"NA\" na np.nan a sloupec na float\n",
    "            df_cleaned[column] = df_cleaned[column].replace(\"NA\", np.nan)\n",
    "            df_cleaned[column] = pd.to_numeric(df_cleaned[column], errors=\"coerce\")\n",
    "        else:\n",
    "            # ponecháme jako kategorii se stringy\n",
    "            df_cleaned[column] = df_cleaned[column].astype(str).str.strip().str.upper()\n",
    "\n",
    "    return df_cleaned\n",
    "\n",
    "\n",
    "train_data = auto_clean_columns(train_data)\n",
    "print(train_data)"
   ]
  },
  {
   "cell_type": "code",
   "execution_count": 5,
   "metadata": {},
   "outputs": [
    {
     "name": "stdout",
     "output_type": "stream",
     "text": [
      "{'LotFrontage': {'description': '', 'items': {}}}\n"
     ]
    }
   ],
   "source": [
    "result = {}\n",
    "\n",
    "# column = \"MSSubClass\"\n",
    "column = \"LotFrontage\"\n",
    "\n",
    "result[column] = {\"description\": \"\", \"items\": {}}\n",
    "\n",
    "id_counter = 0\n",
    "seen = {}\n",
    "\n",
    "for value in train_data[column]:\n",
    "    if isinstance(value, str):\n",
    "        # Add NA for first every column\n",
    "        if \"NA\" not in seen:\n",
    "            result[column][\"items\"][\"NA\"] = {\"id\": id_counter}\n",
    "            seen[\"NA\"] = True\n",
    "            id_counter += 1\n",
    "\n",
    "        key = value.strip().upper()\n",
    "        if key not in seen:\n",
    "            result[column][\"items\"][key] = {\"id\": id_counter}\n",
    "            seen[key] = True\n",
    "            id_counter += 1\n",
    "    # else:\n",
    "    # print(column)\n",
    "print(result)"
   ]
  },
  {
   "cell_type": "code",
   "execution_count": 6,
   "metadata": {},
   "outputs": [
    {
     "name": "stdout",
     "output_type": "stream",
     "text": [
      "{'MSSubClass': {'description': '', 'items': {}}, 'MSZoning': {'description': '', 'items': {'NA': {'id': 0}, 'RL': {'id': 1}, 'RM': {'id': 2}, 'C (ALL)': {'id': 3}, 'FV': {'id': 4}, 'RH': {'id': 5}}}, 'LotFrontage': {'description': '', 'items': {}}, 'LotArea': {'description': '', 'items': {}}, 'Street': {'description': '', 'items': {'NA': {'id': 0}, 'PAVE': {'id': 1}, 'GRVL': {'id': 2}}}, 'Alley': {'description': '', 'items': {'NA': {'id': 0}, 'GRVL': {'id': 1}, 'PAVE': {'id': 2}}}, 'LotShape': {'description': '', 'items': {'NA': {'id': 0}, 'REG': {'id': 1}, 'IR1': {'id': 2}, 'IR2': {'id': 3}, 'IR3': {'id': 4}}}, 'LandContour': {'description': '', 'items': {'NA': {'id': 0}, 'LVL': {'id': 1}, 'BNK': {'id': 2}, 'LOW': {'id': 3}, 'HLS': {'id': 4}}}, 'Utilities': {'description': '', 'items': {'NA': {'id': 0}, 'ALLPUB': {'id': 1}, 'NOSEWA': {'id': 2}}}, 'LotConfig': {'description': '', 'items': {'NA': {'id': 0}, 'INSIDE': {'id': 1}, 'FR2': {'id': 2}, 'CORNER': {'id': 3}, 'CULDSAC': {'id': 4}, 'FR3': {'id': 5}}}, 'LandSlope': {'description': '', 'items': {'NA': {'id': 0}, 'GTL': {'id': 1}, 'MOD': {'id': 2}, 'SEV': {'id': 3}}}, 'Neighborhood': {'description': '', 'items': {'NA': {'id': 0}, 'COLLGCR': {'id': 1}, 'VEENKER': {'id': 2}, 'CRAWFOR': {'id': 3}, 'NORIDGE': {'id': 4}, 'MITCHEL': {'id': 5}, 'SOMERST': {'id': 6}, 'NWAMES': {'id': 7}, 'OLDTOWN': {'id': 8}, 'BRKSIDE': {'id': 9}, 'SAWYER': {'id': 10}, 'NRIDGHT': {'id': 11}, 'NAMES': {'id': 12}, 'SAWYERW': {'id': 13}, 'IDOTRR': {'id': 14}, 'MEADOWV': {'id': 15}, 'EDWARDS': {'id': 16}, 'TIMBER': {'id': 17}, 'GILBERT': {'id': 18}, 'STONEBR': {'id': 19}, 'CLEARCR': {'id': 20}, 'NPKVILL': {'id': 21}, 'BLMNGTN': {'id': 22}, 'BRDALE': {'id': 23}, 'SWISU': {'id': 24}, 'BLUESTE': {'id': 25}}}, 'Condition1': {'description': '', 'items': {'NA': {'id': 0}, 'NORM': {'id': 1}, 'FEEDR': {'id': 2}, 'POSN': {'id': 3}, 'ARTERY': {'id': 4}, 'RRAE': {'id': 5}, 'RRNN': {'id': 6}, 'RRAN': {'id': 7}, 'POSA': {'id': 8}, 'RRNE': {'id': 9}}}, 'Condition2': {'description': '', 'items': {'NA': {'id': 0}, 'NORM': {'id': 1}, 'ARTERY': {'id': 2}, 'RRNN': {'id': 3}, 'FEEDR': {'id': 4}, 'POSN': {'id': 5}, 'POSA': {'id': 6}, 'RRAN': {'id': 7}, 'RRAE': {'id': 8}}}, 'BldgType': {'description': '', 'items': {'NA': {'id': 0}, '1FAM': {'id': 1}, '2FMCON': {'id': 2}, 'DUPLEX': {'id': 3}, 'TWNHSE': {'id': 4}, 'TWNHS': {'id': 5}}}, 'HouseStyle': {'description': '', 'items': {'NA': {'id': 0}, '2STORY': {'id': 1}, '1STORY': {'id': 2}, '1.5FIN': {'id': 3}, '1.5UNF': {'id': 4}, 'SFOYER': {'id': 5}, 'SLVL': {'id': 6}, '2.5UNF': {'id': 7}, '2.5FIN': {'id': 8}}}, 'OverallQual': {'description': '', 'items': {}}, 'OverallCond': {'description': '', 'items': {}}, 'YearBuilt': {'description': '', 'items': {}}, 'YearRemodAdd': {'description': '', 'items': {}}, 'RoofStyle': {'description': '', 'items': {'NA': {'id': 0}, 'GABLE': {'id': 1}, 'HIP': {'id': 2}, 'GAMBREL': {'id': 3}, 'MANSARD': {'id': 4}, 'FLAT': {'id': 5}, 'SHED': {'id': 6}}}, 'RoofMatl': {'description': '', 'items': {'NA': {'id': 0}, 'COMPSHG': {'id': 1}, 'WDSHNGL': {'id': 2}, 'METAL': {'id': 3}, 'WDSHAKE': {'id': 4}, 'MEMBRAN': {'id': 5}, 'TAR&GRV': {'id': 6}, 'ROLL': {'id': 7}, 'CLYTILE': {'id': 8}}}, 'Exterior1st': {'description': '', 'items': {'NA': {'id': 0}, 'VINYLSD': {'id': 1}, 'METALSD': {'id': 2}, 'WD SDNG': {'id': 3}, 'HDBOARD': {'id': 4}, 'BRKFACE': {'id': 5}, 'WDSHING': {'id': 6}, 'CEMNTBD': {'id': 7}, 'PLYWOOD': {'id': 8}, 'ASBSHNG': {'id': 9}, 'STUCCO': {'id': 10}, 'BRKCOMM': {'id': 11}, 'ASPHSHN': {'id': 12}, 'STONE': {'id': 13}, 'IMSTUCC': {'id': 14}, 'CBLOCK': {'id': 15}}}, 'Exterior2nd': {'description': '', 'items': {'NA': {'id': 0}, 'VINYLSD': {'id': 1}, 'METALSD': {'id': 2}, 'WD SHNG': {'id': 3}, 'HDBOARD': {'id': 4}, 'PLYWOOD': {'id': 5}, 'WD SDNG': {'id': 6}, 'CMENTBD': {'id': 7}, 'BRKFACE': {'id': 8}, 'STUCCO': {'id': 9}, 'ASBSHNG': {'id': 10}, 'BRK CMN': {'id': 11}, 'IMSTUCC': {'id': 12}, 'ASPHSHN': {'id': 13}, 'STONE': {'id': 14}, 'OTHER': {'id': 15}, 'CBLOCK': {'id': 16}}}, 'MasVnrType': {'description': '', 'items': {'NA': {'id': 0}, 'BRKFACE': {'id': 1}, 'NONE': {'id': 2}, 'STONE': {'id': 3}, 'BRKCMN': {'id': 4}}}, 'MasVnrArea': {'description': '', 'items': {}}, 'ExterQual': {'description': '', 'items': {'NA': {'id': 0}, 'GD': {'id': 1}, 'TA': {'id': 2}, 'EX': {'id': 3}, 'FA': {'id': 4}}}, 'ExterCond': {'description': '', 'items': {'NA': {'id': 0}, 'TA': {'id': 1}, 'GD': {'id': 2}, 'FA': {'id': 3}, 'PO': {'id': 4}, 'EX': {'id': 5}}}, 'Foundation': {'description': '', 'items': {'NA': {'id': 0}, 'PCONC': {'id': 1}, 'CBLOCK': {'id': 2}, 'BRKTIL': {'id': 3}, 'WOOD': {'id': 4}, 'SLAB': {'id': 5}, 'STONE': {'id': 6}}}, 'BsmtQual': {'description': '', 'items': {'NA': {'id': 0}, 'GD': {'id': 1}, 'TA': {'id': 2}, 'EX': {'id': 3}, 'FA': {'id': 4}}}, 'BsmtCond': {'description': '', 'items': {'NA': {'id': 0}, 'TA': {'id': 1}, 'GD': {'id': 2}, 'FA': {'id': 3}, 'PO': {'id': 4}}}, 'BsmtExposure': {'description': '', 'items': {'NA': {'id': 0}, 'NO': {'id': 1}, 'GD': {'id': 2}, 'MN': {'id': 3}, 'AV': {'id': 4}}}, 'BsmtFinType1': {'description': '', 'items': {'NA': {'id': 0}, 'GLQ': {'id': 1}, 'ALQ': {'id': 2}, 'UNF': {'id': 3}, 'REC': {'id': 4}, 'BLQ': {'id': 5}, 'LWQ': {'id': 6}}}, 'BsmtFinSF1': {'description': '', 'items': {}}, 'BsmtFinType2': {'description': '', 'items': {'NA': {'id': 0}, 'UNF': {'id': 1}, 'BLQ': {'id': 2}, 'ALQ': {'id': 3}, 'REC': {'id': 4}, 'LWQ': {'id': 5}, 'GLQ': {'id': 6}}}, 'BsmtFinSF2': {'description': '', 'items': {}}, 'BsmtUnfSF': {'description': '', 'items': {}}, 'TotalBsmtSF': {'description': '', 'items': {}}, 'Heating': {'description': '', 'items': {'NA': {'id': 0}, 'GASA': {'id': 1}, 'GASW': {'id': 2}, 'GRAV': {'id': 3}, 'WALL': {'id': 4}, 'OTHW': {'id': 5}, 'FLOOR': {'id': 6}}}, 'HeatingQC': {'description': '', 'items': {'NA': {'id': 0}, 'EX': {'id': 1}, 'GD': {'id': 2}, 'TA': {'id': 3}, 'FA': {'id': 4}, 'PO': {'id': 5}}}, 'CentralAir': {'description': '', 'items': {'NA': {'id': 0}, 'Y': {'id': 1}, 'N': {'id': 2}}}, 'Electrical': {'description': '', 'items': {'NA': {'id': 0}, 'SBRKR': {'id': 1}, 'FUSEF': {'id': 2}, 'FUSEA': {'id': 3}, 'FUSEP': {'id': 4}, 'MIX': {'id': 5}}}, '1stFlrSF': {'description': '', 'items': {}}, '2ndFlrSF': {'description': '', 'items': {}}, 'LowQualFinSF': {'description': '', 'items': {}}, 'GrLivArea': {'description': '', 'items': {}}, 'BsmtFullBath': {'description': '', 'items': {}}, 'BsmtHalfBath': {'description': '', 'items': {}}, 'FullBath': {'description': '', 'items': {}}, 'HalfBath': {'description': '', 'items': {}}, 'BedroomAbvGr': {'description': '', 'items': {}}, 'KitchenAbvGr': {'description': '', 'items': {}}, 'KitchenQual': {'description': '', 'items': {'NA': {'id': 0}, 'GD': {'id': 1}, 'TA': {'id': 2}, 'EX': {'id': 3}, 'FA': {'id': 4}}}, 'TotRmsAbvGrd': {'description': '', 'items': {}}, 'Functional': {'description': '', 'items': {'NA': {'id': 0}, 'TYP': {'id': 1}, 'MIN1': {'id': 2}, 'MAJ1': {'id': 3}, 'MIN2': {'id': 4}, 'MOD': {'id': 5}, 'MAJ2': {'id': 6}, 'SEV': {'id': 7}}}, 'Fireplaces': {'description': '', 'items': {}}, 'FireplaceQu': {'description': '', 'items': {'NA': {'id': 0}, 'TA': {'id': 1}, 'GD': {'id': 2}, 'FA': {'id': 3}, 'EX': {'id': 4}, 'PO': {'id': 5}}}, 'GarageType': {'description': '', 'items': {'NA': {'id': 0}, 'ATTCHD': {'id': 1}, 'DETCHD': {'id': 2}, 'BUILTIN': {'id': 3}, 'CARPORT': {'id': 4}, 'BASMENT': {'id': 5}, '2TYPES': {'id': 6}}}, 'GarageYrBlt': {'description': '', 'items': {}}, 'GarageFinish': {'description': '', 'items': {'NA': {'id': 0}, 'RFN': {'id': 1}, 'UNF': {'id': 2}, 'FIN': {'id': 3}}}, 'GarageCars': {'description': '', 'items': {}}, 'GarageArea': {'description': '', 'items': {}}, 'GarageQual': {'description': '', 'items': {'NA': {'id': 0}, 'TA': {'id': 1}, 'FA': {'id': 2}, 'GD': {'id': 3}, 'EX': {'id': 4}, 'PO': {'id': 5}}}, 'GarageCond': {'description': '', 'items': {'NA': {'id': 0}, 'TA': {'id': 1}, 'FA': {'id': 2}, 'GD': {'id': 3}, 'PO': {'id': 4}, 'EX': {'id': 5}}}, 'PavedDrive': {'description': '', 'items': {'NA': {'id': 0}, 'Y': {'id': 1}, 'N': {'id': 2}, 'P': {'id': 3}}}, 'WoodDeckSF': {'description': '', 'items': {}}, 'OpenPorchSF': {'description': '', 'items': {}}, 'EnclosedPorch': {'description': '', 'items': {}}, '3SsnPorch': {'description': '', 'items': {}}, 'ScreenPorch': {'description': '', 'items': {}}, 'PoolArea': {'description': '', 'items': {}}, 'PoolQC': {'description': '', 'items': {'NA': {'id': 0}, 'EX': {'id': 1}, 'FA': {'id': 2}, 'GD': {'id': 3}}}, 'Fence': {'description': '', 'items': {'NA': {'id': 0}, 'MNPRV': {'id': 1}, 'GDWO': {'id': 2}, 'GDPRV': {'id': 3}, 'MNWW': {'id': 4}}}, 'MiscFeature': {'description': '', 'items': {'NA': {'id': 0}, 'SHED': {'id': 1}, 'GAR2': {'id': 2}, 'OTHR': {'id': 3}, 'TENC': {'id': 4}}}, 'MiscVal': {'description': '', 'items': {}}, 'MoSold': {'description': '', 'items': {}}, 'YrSold': {'description': '', 'items': {}}, 'SaleType': {'description': '', 'items': {'NA': {'id': 0}, 'WD': {'id': 1}, 'NEW': {'id': 2}, 'COD': {'id': 3}, 'CONLD': {'id': 4}, 'CONLI': {'id': 5}, 'CWD': {'id': 6}, 'CONLW': {'id': 7}, 'CON': {'id': 8}, 'OTH': {'id': 9}}}, 'SaleCondition': {'description': '', 'items': {'NA': {'id': 0}, 'NORMAL': {'id': 1}, 'ABNORML': {'id': 2}, 'PARTIAL': {'id': 3}, 'ADJLAND': {'id': 4}, 'ALLOCA': {'id': 5}, 'FAMILY': {'id': 6}}}}\n",
      "✅ JSON dictionary generated.\n"
     ]
    }
   ],
   "source": [
    "import pandas as pd\n",
    "import json\n",
    "\n",
    "\n",
    "def auto_generate_description_dict(train_data: pd.DataFrame) -> dict:\n",
    "    result = {}\n",
    "\n",
    "    for column in train_data.columns:\n",
    "        result[column] = {\"description\": \"\", \"items\": {}}\n",
    "\n",
    "        id_counter = 0\n",
    "        seen = {}\n",
    "\n",
    "        for value in train_data[column]:\n",
    "            if isinstance(value, str):\n",
    "                # Add NA for first every column\n",
    "                if \"NA\" not in seen:\n",
    "                    result[column][\"items\"][\"NA\"] = {\"id\": id_counter}\n",
    "                    seen[\"NA\"] = True\n",
    "                    id_counter += 1\n",
    "\n",
    "                key = value.strip().upper()\n",
    "                if key not in seen:\n",
    "                    result[column][\"items\"][key] = {\"id\": id_counter}\n",
    "                    seen[key] = True\n",
    "                    id_counter += 1\n",
    "            # else:\n",
    "            # print(column)\n",
    "\n",
    "    return result\n",
    "\n",
    "\n",
    "#  Create descriptions from train data (DO NOT DO IT FROM TEST DATA)\n",
    "description_dictionary = auto_generate_description_dict(train_data)\n",
    "print(description_dictionary)\n",
    "\n",
    "with open(\"data_set/generated_description.json\", \"w\", encoding=\"utf-8\") as f:\n",
    "    json.dump(description_dictionary, f, indent=2, ensure_ascii=False)\n",
    "\n",
    "print(\"✅ JSON dictionary generated.\")"
   ]
  },
  {
   "cell_type": "code",
   "execution_count": null,
   "metadata": {},
   "outputs": [],
   "source": [
    "print(train_data.iloc[:10])"
   ]
  },
  {
   "cell_type": "code",
   "execution_count": 49,
   "metadata": {},
   "outputs": [
    {
     "ename": "SyntaxError",
     "evalue": "invalid syntax (1693285669.py, line 24)",
     "output_type": "error",
     "traceback": [
      "\u001b[1;36m  Cell \u001b[1;32mIn[49], line 24\u001b[1;36m\u001b[0m\n\u001b[1;33m    print(column, index, value, isinstance(value, str))Q\u001b[0m\n\u001b[1;37m                                                       ^\u001b[0m\n\u001b[1;31mSyntaxError\u001b[0m\u001b[1;31m:\u001b[0m invalid syntax\n"
     ]
    }
   ],
   "source": [
    "import json\n",
    "import re\n",
    "\n",
    "txt_path = \"data_set/data_description.txt\"\n",
    "json_path = \"data_set/generated_description.json\"\n",
    "\n",
    "\n",
    "# Použití\n",
    "# utils_io.parse_description_txt_to_json(txt_path, json_path)\n",
    "\n",
    "generated_description = json.load(open(json_path))\n",
    "\n",
    "\n",
    "for column in train_data.columns:\n",
    "    for index, value in train_data[column].items():\n",
    "        # if value == \"C (all)\":\n",
    "        #     print(column, index, value)\n",
    "        if isinstance(value, str):\n",
    "            try:\n",
    "                train_data.at[index, column] = generated_description[column][\"items\"][\n",
    "                    value.strip().upper()\n",
    "                ][\"id\"]\n",
    "            except:\n",
    "                print(column, index, value, isinstance(value, str))"
   ]
  },
  {
   "cell_type": "code",
   "execution_count": 8,
   "metadata": {},
   "outputs": [
    {
     "name": "stdout",
     "output_type": "stream",
     "text": [
      "   MSSubClass MSZoning  LotFrontage  LotArea Street Alley LotShape  \\\n",
      "0          60        1         65.0     8450      1     0        1   \n",
      "1          20        1         80.0     9600      1     0        1   \n",
      "2          60        1         68.0    11250      1     0        2   \n",
      "3          70        1         60.0     9550      1     0        2   \n",
      "4          60        1         84.0    14260      1     0        2   \n",
      "5          50        1         85.0    14115      1     0        2   \n",
      "6          20        1         75.0    10084      1     0        1   \n",
      "7          60        1          NaN    10382      1     0        2   \n",
      "8          50        2         51.0     6120      1     0        1   \n",
      "9         190        1         50.0     7420      1     0        1   \n",
      "\n",
      "  LandContour Utilities LotConfig  ... ScreenPorch PoolArea PoolQC Fence  \\\n",
      "0           1         1         1  ...           0        0      0     0   \n",
      "1           1         1         2  ...           0        0      0     0   \n",
      "2           1         1         1  ...           0        0      0     0   \n",
      "3           1         1         3  ...           0        0      0     0   \n",
      "4           1         1         2  ...           0        0      0     0   \n",
      "5           1         1         1  ...           0        0      0     1   \n",
      "6           1         1         1  ...           0        0      0     0   \n",
      "7           1         1         3  ...           0        0      0     0   \n",
      "8           1         1         1  ...           0        0      0     0   \n",
      "9           1         1         3  ...           0        0      0     0   \n",
      "\n",
      "  MiscFeature MiscVal  MoSold  YrSold  SaleType  SaleCondition  \n",
      "0           0       0       2    2008         1              1  \n",
      "1           0       0       5    2007         1              1  \n",
      "2           0       0       9    2008         1              1  \n",
      "3           0       0       2    2006         1              2  \n",
      "4           0       0      12    2008         1              1  \n",
      "5           1     700      10    2009         1              1  \n",
      "6           0       0       8    2007         1              1  \n",
      "7           1     350      11    2009         1              1  \n",
      "8           0       0       4    2008         1              2  \n",
      "9           0       0       1    2008         1              1  \n",
      "\n",
      "[10 rows x 79 columns]\n"
     ]
    }
   ],
   "source": [
    "print(train_data.iloc[:10])"
   ]
  },
  {
   "cell_type": "markdown",
   "metadata": {},
   "source": [
    "calc mean and std\n"
   ]
  },
  {
   "cell_type": "code",
   "execution_count": null,
   "metadata": {},
   "outputs": [],
   "source": [
    "mean = train_data.mean(axis=0)\n",
    "# print(mean)\n",
    "std = train_data.std(axis=0)\n",
    "# print(std)\n",
    "\n",
    "train_data = train_data - mean\n",
    "train_data = train_data / std"
   ]
  },
  {
   "cell_type": "code",
   "execution_count": null,
   "metadata": {},
   "outputs": [],
   "source": [
    "print(train_data.iloc[:10])"
   ]
  },
  {
   "cell_type": "markdown",
   "metadata": {},
   "source": [
    "# Create NN neural network\n"
   ]
  },
  {
   "cell_type": "code",
   "execution_count": 25,
   "metadata": {},
   "outputs": [
    {
     "name": "stdout",
     "output_type": "stream",
     "text": [
      "755000.0\n",
      "34900.0\n",
      "180921.19\n",
      "720100.0\n"
     ]
    }
   ],
   "source": [
    "print(max(target_data))\n",
    "print(min(target_data))\n",
    "print(np.mean(target_data))\n",
    "print(max(target_data) - min(target_data))"
   ]
  },
  {
   "cell_type": "code",
   "execution_count": 10,
   "metadata": {},
   "outputs": [
    {
     "name": "stdout",
     "output_type": "stream",
     "text": [
      "(1460, 79)\n"
     ]
    }
   ],
   "source": [
    "print(train_data.shape)"
   ]
  },
  {
   "cell_type": "code",
   "execution_count": 11,
   "metadata": {},
   "outputs": [],
   "source": [
    "train_data = train_data.astype(\"float32\")\n",
    "target_data = target_data.astype(\"float32\")"
   ]
  },
  {
   "cell_type": "code",
   "execution_count": 12,
   "metadata": {},
   "outputs": [
    {
     "name": "stdout",
     "output_type": "stream",
     "text": [
      "365\n",
      "processing fold # 0\n",
      "(1460,)\n",
      "(365, 79)\n",
      "(365,)\n",
      "(1095, 79)\n",
      "(1095,)\n",
      "79\n"
     ]
    }
   ],
   "source": [
    "i = 0\n",
    "\n",
    "k = 4\n",
    "num_val_samples = len(train_data) // k\n",
    "print(num_val_samples)\n",
    "print(f\"processing fold # {i}\")\n",
    "print(target_data.shape)\n",
    "val_data = train_data[i * num_val_samples : (i + 1) * num_val_samples]\n",
    "val_targets = target_data[i * num_val_samples : (i + 1) * num_val_samples]\n",
    "print(val_data.shape)\n",
    "print(val_targets.shape)\n",
    "\n",
    "partial_train_data = pd.concat(\n",
    "    [train_data[: i * num_val_samples], train_data[(i + 1) * num_val_samples :]]\n",
    ")\n",
    "partial_train_targets = pd.concat(\n",
    "    [target_data[: i * num_val_samples], target_data[(i + 1) * num_val_samples :]]\n",
    ")\n",
    "print(partial_train_data.shape)\n",
    "print(partial_train_targets.shape)\n",
    "# print(partial_train_data.shape)\n",
    "print(train_data.shape[1])"
   ]
  },
  {
   "cell_type": "code",
   "execution_count": 30,
   "metadata": {},
   "outputs": [
    {
     "name": "stdout",
     "output_type": "stream",
     "text": [
      "57434.773\n"
     ]
    }
   ],
   "source": [
    "baseline_prediction = np.full_like(target_data, np.mean(target_data))\n",
    "baseline_mae = np.mean(np.abs(target_data - baseline_prediction))\n",
    "print(baseline_mae)"
   ]
  },
  {
   "cell_type": "code",
   "execution_count": 45,
   "metadata": {},
   "outputs": [
    {
     "name": "stdout",
     "output_type": "stream",
     "text": [
      "processing fold # 0\n",
      "- 🧠 Spouštím trénování...\n"
     ]
    },
    {
     "name": "stderr",
     "output_type": "stream",
     "text": [
      "C:\\Users\\Uzivatel\\AppData\\Local\\Packages\\PythonSoftwareFoundation.Python.3.11_qbz5n2kfra8p0\\LocalCache\\local-packages\\Python311\\site-packages\\keras\\src\\layers\\core\\dense.py:87: UserWarning: Do not pass an `input_shape`/`input_dim` argument to a layer. When using Sequential models, prefer using an `Input(shape)` object as the first layer in the model instead.\n",
      "  super().__init__(activity_regularizer=activity_regularizer, **kwargs)\n"
     ]
    },
    {
     "name": "stdout",
     "output_type": "stream",
     "text": [
      "- ✅ Fold 1 finished: val_mae = 65509.67\n",
      "processing fold # 1\n",
      "- 🧠 Spouštím trénování...\n"
     ]
    },
    {
     "name": "stderr",
     "output_type": "stream",
     "text": [
      "C:\\Users\\Uzivatel\\AppData\\Local\\Packages\\PythonSoftwareFoundation.Python.3.11_qbz5n2kfra8p0\\LocalCache\\local-packages\\Python311\\site-packages\\keras\\src\\layers\\core\\dense.py:87: UserWarning: Do not pass an `input_shape`/`input_dim` argument to a layer. When using Sequential models, prefer using an `Input(shape)` object as the first layer in the model instead.\n",
      "  super().__init__(activity_regularizer=activity_regularizer, **kwargs)\n"
     ]
    },
    {
     "name": "stdout",
     "output_type": "stream",
     "text": [
      "- ✅ Fold 2 finished: val_mae = 70209.56\n",
      "processing fold # 2\n",
      "- 🧠 Spouštím trénování...\n"
     ]
    },
    {
     "name": "stderr",
     "output_type": "stream",
     "text": [
      "C:\\Users\\Uzivatel\\AppData\\Local\\Packages\\PythonSoftwareFoundation.Python.3.11_qbz5n2kfra8p0\\LocalCache\\local-packages\\Python311\\site-packages\\keras\\src\\layers\\core\\dense.py:87: UserWarning: Do not pass an `input_shape`/`input_dim` argument to a layer. When using Sequential models, prefer using an `Input(shape)` object as the first layer in the model instead.\n",
      "  super().__init__(activity_regularizer=activity_regularizer, **kwargs)\n"
     ]
    },
    {
     "name": "stdout",
     "output_type": "stream",
     "text": [
      "- ✅ Fold 3 finished: val_mae = 61769.52\n",
      "processing fold # 3\n",
      "- 🧠 Spouštím trénování...\n"
     ]
    },
    {
     "name": "stderr",
     "output_type": "stream",
     "text": [
      "C:\\Users\\Uzivatel\\AppData\\Local\\Packages\\PythonSoftwareFoundation.Python.3.11_qbz5n2kfra8p0\\LocalCache\\local-packages\\Python311\\site-packages\\keras\\src\\layers\\core\\dense.py:87: UserWarning: Do not pass an `input_shape`/`input_dim` argument to a layer. When using Sequential models, prefer using an `Input(shape)` object as the first layer in the model instead.\n",
      "  super().__init__(activity_regularizer=activity_regularizer, **kwargs)\n"
     ]
    },
    {
     "name": "stdout",
     "output_type": "stream",
     "text": [
      "- ✅ Fold 4 finished: val_mae = 59325.83\n",
      "processing fold # 4\n",
      "- 🧠 Spouštím trénování...\n"
     ]
    },
    {
     "name": "stderr",
     "output_type": "stream",
     "text": [
      "C:\\Users\\Uzivatel\\AppData\\Local\\Packages\\PythonSoftwareFoundation.Python.3.11_qbz5n2kfra8p0\\LocalCache\\local-packages\\Python311\\site-packages\\keras\\src\\layers\\core\\dense.py:87: UserWarning: Do not pass an `input_shape`/`input_dim` argument to a layer. When using Sequential models, prefer using an `Input(shape)` object as the first layer in the model instead.\n",
      "  super().__init__(activity_regularizer=activity_regularizer, **kwargs)\n"
     ]
    },
    {
     "name": "stdout",
     "output_type": "stream",
     "text": [
      "- ✅ Fold 5 finished: val_mae = 57873.86\n",
      "[65509.671875, 70209.5625, 61769.51953125, 59325.828125, 57873.86328125]\n",
      "🕒 Celkový čas trénování: 36.36 s\n"
     ]
    }
   ],
   "source": [
    "import keras\n",
    "import time\n",
    "\n",
    "start = time.time()\n",
    "\n",
    "\n",
    "def build_model():\n",
    "    input_shape = (79,)  # 79 parameters of house\n",
    "    model = keras.models.Sequential()\n",
    "    model.add(keras.layers.Dense(128, activation=\"relu\", input_shape=input_shape))\n",
    "    model.add(keras.layers.BatchNormalization())\n",
    "    model.add(keras.layers.Dropout(0.3))\n",
    "    model.add(keras.layers.Dense(64, activation=\"relu\"))\n",
    "    model.add(keras.layers.Dense(1))  # regresní výstup\n",
    "    model.compile(optimizer=\"adam\", loss=\"mse\", metrics=[\"mae\"])\n",
    "    return model\n",
    "\n",
    "\n",
    "# def build_model():\n",
    "#     model = keras.models.Sequential()\n",
    "#     input_shape = (79,)  # 79 parameters of house\n",
    "#     model.add(\n",
    "#         keras.layers.Dense(units=256, activation=\"relu\"),\n",
    "#     )\n",
    "#     model.add(keras.layers.Dense(units=256, activation=\"relu\"))\n",
    "#     model.add(keras.layers.Dense(units=256, activation=\"relu\"))\n",
    "#     model.add(keras.layers.Dense(units=1))  # output layer price of house\n",
    "#     model.compile(optimizer=\"rmsprop\", loss=\"mse\", metrics=[\"mae\"])\n",
    "#     return model\n",
    "\n",
    "\n",
    "k = 5\n",
    "num_val_samples = len(train_data) // k\n",
    "num_epochs = 100\n",
    "all_scores = []\n",
    "all_histories = []\n",
    "\n",
    "for i in range(k):\n",
    "    print(f\"processing fold # {i}\")\n",
    "    val_data = train_data[i * num_val_samples : (i + 1) * num_val_samples]\n",
    "    val_targets = target_data[i * num_val_samples : (i + 1) * num_val_samples]\n",
    "    partial_train_data = pd.concat(\n",
    "        [train_data[: i * num_val_samples], train_data[(i + 1) * num_val_samples :]]\n",
    "    )\n",
    "    partial_train_targets = pd.concat(\n",
    "        [target_data[: i * num_val_samples], target_data[(i + 1) * num_val_samples :]]\n",
    "    )\n",
    "\n",
    "    model = build_model()\n",
    "    print(\"- 🧠 Spouštím trénování...\")\n",
    "    history = model.fit(\n",
    "        partial_train_data,\n",
    "        partial_train_targets,\n",
    "        epochs=num_epochs,\n",
    "        batch_size=64,\n",
    "        verbose=0,\n",
    "    )\n",
    "\n",
    "    val_mse, val_mae = model.evaluate(val_data, val_targets, verbose=0)\n",
    "    print(f\"- ✅ Fold {i + 1} finished: val_mae = {val_mae:.2f}\")\n",
    "    all_scores.append(val_mae)\n",
    "    all_histories.append(history)\n",
    "\n",
    "print(all_scores)\n",
    "print(f\"🕒 Celkový čas trénování: {time.time() - start:.2f} s\")"
   ]
  },
  {
   "cell_type": "code",
   "execution_count": 46,
   "metadata": {},
   "outputs": [],
   "source": [
    "model.save(\"house_prices_0.keras\")"
   ]
  },
  {
   "cell_type": "code",
   "execution_count": 47,
   "metadata": {},
   "outputs": [
    {
     "name": "stdout",
     "output_type": "stream",
     "text": [
      "\n",
      "==================================================\n",
      "📊 Výsledky cross-validace:\n",
      "Fold 1: MAE = 65509.67\n",
      "Fold 2: MAE = 70209.56\n",
      "Fold 3: MAE = 61769.52\n",
      "Fold 4: MAE = 59325.83\n",
      "Fold 5: MAE = 57873.86\n",
      "--------------------------------------------------\n",
      "📈 Průměrná MAE přes 5 foldů: 62937.69\n"
     ]
    }
   ],
   "source": [
    "print(\"\\n\" + \"=\" * 50)\n",
    "print(\"📊 Výsledky cross-validace:\")\n",
    "for i, score in enumerate(all_scores):\n",
    "    print(f\"Fold {i + 1}: MAE = {score:.2f}\")\n",
    "\n",
    "average = np.mean(all_scores)\n",
    "print(\"-\" * 50)\n",
    "print(f\"📈 Průměrná MAE přes {k} foldů: {average:.2f}\")"
   ]
  },
  {
   "cell_type": "code",
   "execution_count": 48,
   "metadata": {},
   "outputs": [
    {
     "name": "stderr",
     "output_type": "stream",
     "text": [
      "C:\\Users\\Uzivatel\\AppData\\Local\\Temp\\ipykernel_40664\\840741304.py:24: UserWarning: Glyph 128200 (\\N{CHART WITH UPWARDS TREND}) missing from font(s) DejaVu Sans.\n",
      "  plt.tight_layout()\n",
      "C:\\Users\\Uzivatel\\AppData\\Local\\Packages\\PythonSoftwareFoundation.Python.3.11_qbz5n2kfra8p0\\LocalCache\\local-packages\\Python311\\site-packages\\IPython\\core\\pylabtools.py:170: UserWarning: Glyph 128200 (\\N{CHART WITH UPWARDS TREND}) missing from font(s) DejaVu Sans.\n",
      "  fig.canvas.print_figure(bytes_io, **kw)\n"
     ]
    },
    {
     "data": {
      "image/png": "[encoded data removed]",
      "text/plain": [
       "<Figure size 1000x600 with 1 Axes>"
      ]
     },
     "metadata": {},
     "output_type": "display_data"
    }
   ],
   "source": [
    "epoch_maes = [\n",
    "    [history.history[\"mae\"][epoch] for history in all_histories]\n",
    "    for epoch in range(num_epochs)\n",
    "]\n",
    "average_mae_history = [np.mean(epoch) for epoch in epoch_maes]\n",
    "std_mae_history = [np.std(epoch) for epoch in epoch_maes]\n",
    "\n",
    "plt.figure(figsize=(10, 6))\n",
    "plt.plot(\n",
    "    range(1, num_epochs + 1), average_mae_history, marker=\"o\", label=\"Průměrná MAE\"\n",
    ")\n",
    "plt.fill_between(\n",
    "    range(1, num_epochs + 1),\n",
    "    np.array(average_mae_history) - np.array(std_mae_history),\n",
    "    np.array(average_mae_history) + np.array(std_mae_history),\n",
    "    alpha=0.2,\n",
    "    label=\"± 1 std\",\n",
    ")\n",
    "plt.xlabel(\"Epoch\")\n",
    "plt.ylabel(\"Mean Absolute Error (MAE)\")\n",
    "plt.title(\"📈 Průměrná MAE s rozptylem (všechny foldy)\")\n",
    "plt.grid(True)\n",
    "plt.legend()\n",
    "plt.tight_layout()\n",
    "plt.show()"
   ]
  },
  {
   "cell_type": "markdown",
   "metadata": {},
   "source": [
    "# Test model on test data\n"
   ]
  },
  {
   "cell_type": "code",
   "execution_count": null,
   "metadata": {},
   "outputs": [],
   "source": []
  }
 ],
 "metadata": {
  "kernelspec": {
   "display_name": "Python 3",
   "language": "python",
   "name": "python3"
  },
  "language_info": {
   "codemirror_mode": {
    "name": "ipython",
    "version": 3
   },
   "file_extension": ".py",
   "mimetype": "text/x-python",
   "name": "python",
   "nbconvert_exporter": "python",
   "pygments_lexer": "ipython3",
   "version": "3.11.9"
  }
 },
 "nbformat": 4,
 "nbformat_minor": 2
}
