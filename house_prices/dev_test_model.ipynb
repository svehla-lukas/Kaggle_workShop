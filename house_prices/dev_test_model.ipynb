{
 "cells": [
  {
   "cell_type": "markdown",
   "metadata": {},
   "source": [
    "# Export\n"
   ]
  },
  {
   "cell_type": "code",
   "execution_count": null,
   "metadata": {},
   "outputs": [],
   "source": [
    "from keras.models import load_model\n",
    "import utils_io\n",
    "import numpy as np\n",
    "import pandas as pd"
   ]
  },
  {
   "cell_type": "markdown",
   "metadata": {},
   "source": [
    "# Prepare data\n"
   ]
  },
  {
   "cell_type": "code",
   "execution_count": null,
   "metadata": {},
   "outputs": [],
   "source": []
  },
  {
   "cell_type": "markdown",
   "metadata": {},
   "source": [
    "TEST DATA\n"
   ]
  },
  {
   "cell_type": "code",
   "execution_count": null,
   "metadata": {},
   "outputs": [],
   "source": [
    "path_test_data = \"data_set/test.csv\"\n",
    "\n",
    "test_data = utils_io.load_csv_data(path_test_data)\n",
    "# Debugging: Check the type of test_data\n",
    "\n",
    "# Print the loaded data\n",
    "if isinstance(test_data, pd.DataFrame):\n",
    "    print(f\"dimension train data: {test_data.shape}\")\n",
    "else:\n",
    "    print(\"test_data is not a DataFrame\")"
   ]
  },
  {
   "cell_type": "markdown",
   "metadata": {},
   "source": [
    "target data\n"
   ]
  },
  {
   "cell_type": "code",
   "execution_count": null,
   "metadata": {},
   "outputs": [],
   "source": [
    "path_target_data = \"data_set/sample_submission.csv\"\n",
    "\n",
    "target_data = utils_io.load_csv_data(path_target_data)\n",
    "\n",
    "# Print the loaded data\n",
    "if isinstance(target_data, pd.DataFrame):\n",
    "    print(f\"dimension train data: {target_data.shape}\")\n",
    "else:\n",
    "    print(\"test_data is not a DataFrame\")"
   ]
  },
  {
   "cell_type": "code",
   "execution_count": null,
   "metadata": {},
   "outputs": [],
   "source": [
    "# Drop the Id and sales price column\n",
    "test_data = test_data.drop(columns=[\"Id\"])\n",
    "print(test_data.shape)"
   ]
  },
  {
   "cell_type": "markdown",
   "metadata": {},
   "source": [
    "Clean numbers NA to na.nan\n"
   ]
  },
  {
   "cell_type": "code",
   "execution_count": null,
   "metadata": {},
   "outputs": [],
   "source": [
    "import pandas as pd\n",
    "import numpy as np\n",
    "\n",
    "\n",
    "def auto_clean_columns(df: pd.DataFrame) -> pd.DataFrame:\n",
    "    df_cleaned = df.copy()\n",
    "\n",
    "    for column in df_cleaned.columns:\n",
    "        values = df_cleaned[column].dropna().unique()\n",
    "\n",
    "        # Pokud vše je číslo nebo 'NA' → převedeme na float\n",
    "        can_be_numeric = True\n",
    "        for v in values:\n",
    "            if isinstance(v, str) and v.strip().upper() == \"NA\":\n",
    "                continue\n",
    "            try:\n",
    "                float(v)\n",
    "            except:\n",
    "                can_be_numeric = False\n",
    "                break\n",
    "\n",
    "        if can_be_numeric:\n",
    "            # Převést \"NA\" na np.nan a sloupec na float\n",
    "            df_cleaned[column] = df_cleaned[column].replace(\"NA\", np.nan)\n",
    "            df_cleaned[column] = pd.to_numeric(df_cleaned[column], errors=\"coerce\")\n",
    "        else:\n",
    "            # ponecháme jako kategorii se stringy\n",
    "            df_cleaned[column] = df_cleaned[column].astype(str).str.strip().str.upper()\n",
    "\n",
    "    return df_cleaned\n",
    "\n",
    "\n",
    "test_data = auto_clean_columns(test_data)\n",
    "print(test_data)"
   ]
  },
  {
   "cell_type": "markdown",
   "metadata": {},
   "source": [
    "## Normalization\n"
   ]
  },
  {
   "cell_type": "code",
   "execution_count": null,
   "metadata": {},
   "outputs": [],
   "source": [
    "import json\n",
    "import re\n",
    "\n",
    "json_path = \"data_set/generated_description.json\"\n",
    "\n",
    "generated_description = json.load(open(json_path))\n",
    "\n",
    "\n",
    "for column in test_data.columns:\n",
    "    for index, value in test_data[column].items():\n",
    "        # if value == \"NA\":\n",
    "        #     print(column, index, value)\n",
    "        if isinstance(value, str):\n",
    "            try:\n",
    "                test_data.at[index, column] = generated_description[column][\"items\"][\n",
    "                    value.strip().upper()\n",
    "                ][\"id\"]\n",
    "            except:\n",
    "                print(column, index, value, isinstance(value, str))"
   ]
  },
  {
   "cell_type": "code",
   "execution_count": null,
   "metadata": {},
   "outputs": [],
   "source": [
    "print(test_data.iloc[:10])"
   ]
  },
  {
   "cell_type": "code",
   "execution_count": null,
   "metadata": {},
   "outputs": [],
   "source": [
    "mean = test_data.mean(axis=0)\n",
    "# print(mean)\n",
    "std = test_data.std(axis=0)\n",
    "# print(std)\n",
    "\n",
    "train_data = test_data - mean\n",
    "train_data = test_data / std"
   ]
  },
  {
   "cell_type": "code",
   "execution_count": null,
   "metadata": {},
   "outputs": [],
   "source": [
    "train_data = train_data.astype(\"float32\")\n",
    "target_data = target_data.astype(\"float32\")"
   ]
  },
  {
   "cell_type": "markdown",
   "metadata": {},
   "source": [
    "# Import model\n"
   ]
  },
  {
   "cell_type": "code",
   "execution_count": null,
   "metadata": {},
   "outputs": [],
   "source": [
    "model = load_model(\"house_prices_0.keras\")"
   ]
  },
  {
   "cell_type": "code",
   "execution_count": null,
   "metadata": {},
   "outputs": [],
   "source": [
    "print(train_data.iloc[0])"
   ]
  },
  {
   "cell_type": "code",
   "execution_count": null,
   "metadata": {},
   "outputs": [],
   "source": [
    "for i in range(10):\n",
    "    predictions = model.predict(train_data.iloc[[i]])\n",
    "    target_value = target_data.iloc[i, 1]\n",
    "\n",
    "    diff = int(target_value - predictions[0][0])\n",
    "    pred = int(predictions[0][0])\n",
    "    target = int(target_value)\n",
    "\n",
    "    print(\n",
    "        f\"diff = {format(diff, ',').replace(',', ' ')} USD | \"\n",
    "        f\"prediction = {format(pred, ',').replace(',', ' ')} USD | \"\n",
    "        f\"target = {format(target, ',').replace(',', ' ')} USD\"\n",
    "    )"
   ]
  },
  {
   "cell_type": "code",
   "execution_count": null,
   "metadata": {},
   "outputs": [],
   "source": [
    "target_data.iloc[2, 1]"
   ]
  }
 ],
 "metadata": {
  "kernelspec": {
   "display_name": "Python 3",
   "language": "python",
   "name": "python3"
  },
  "language_info": {
   "codemirror_mode": {
    "name": "ipython",
    "version": 3
   },
   "file_extension": ".py",
   "mimetype": "text/x-python",
   "name": "python",
   "nbconvert_exporter": "python",
   "pygments_lexer": "ipython3",
   "version": "3.11.9"
  }
 },
 "nbformat": 4,
 "nbformat_minor": 2
}
