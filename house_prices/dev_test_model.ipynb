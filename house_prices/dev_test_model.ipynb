{
 "cells": [
  {
   "cell_type": "markdown",
   "metadata": {},
   "source": [
    "# Export\n"
   ]
  },
  {
   "cell_type": "code",
   "execution_count": 26,
   "metadata": {},
   "outputs": [],
   "source": [
    "from keras.models import load_model\n",
    "import utils_io\n",
    "import numpy as np\n",
    "import pandas as pd"
   ]
  },
  {
   "cell_type": "markdown",
   "metadata": {},
   "source": [
    "# Prepare data\n"
   ]
  },
  {
   "cell_type": "markdown",
   "metadata": {},
   "source": [
    "TEST DATA\n"
   ]
  },
  {
   "cell_type": "code",
   "execution_count": 27,
   "metadata": {},
   "outputs": [
    {
     "name": "stdout",
     "output_type": "stream",
     "text": [
      "Successfully loaded data from data_set/test.csv\n",
      "dimension train data: (1459, 80)\n"
     ]
    }
   ],
   "source": [
    "path_test_data = \"data_set/test.csv\"\n",
    "\n",
    "test_data = utils_io.load_csv_data(path_test_data)\n",
    "# Debugging: Check the type of test_data\n",
    "\n",
    "# Print the loaded data\n",
    "if isinstance(test_data, pd.DataFrame):\n",
    "    print(f\"dimension train data: {test_data.shape}\")\n",
    "else:\n",
    "    print(\"test_data is not a DataFrame\")"
   ]
  },
  {
   "cell_type": "markdown",
   "metadata": {},
   "source": [
    "target data\n"
   ]
  },
  {
   "cell_type": "code",
   "execution_count": 28,
   "metadata": {},
   "outputs": [
    {
     "name": "stdout",
     "output_type": "stream",
     "text": [
      "Successfully loaded data from data_set/sample_submission.csv\n",
      "dimension train data: (1459, 2)\n"
     ]
    }
   ],
   "source": [
    "path_target_data = \"data_set/sample_submission.csv\"\n",
    "\n",
    "target_data = utils_io.load_csv_data(path_target_data)\n",
    "\n",
    "# Print the loaded data\n",
    "if isinstance(target_data, pd.DataFrame):\n",
    "    print(f\"dimension train data: {target_data.shape}\")\n",
    "else:\n",
    "    print(\"test_data is not a DataFrame\")"
   ]
  },
  {
   "cell_type": "code",
   "execution_count": 29,
   "metadata": {},
   "outputs": [
    {
     "name": "stdout",
     "output_type": "stream",
     "text": [
      "(1459, 79)\n"
     ]
    }
   ],
   "source": [
    "# Drop the Id and sales price column\n",
    "test_data = test_data.drop(columns=[\"Id\"])\n",
    "print(test_data.shape)"
   ]
  },
  {
   "cell_type": "markdown",
   "metadata": {},
   "source": [
    "Clean numbers NA to na.nan\n"
   ]
  },
  {
   "cell_type": "code",
   "execution_count": 30,
   "metadata": {},
   "outputs": [
    {
     "name": "stdout",
     "output_type": "stream",
     "text": [
      "      MSSubClass MSZoning  LotFrontage  LotArea Street Alley LotShape  \\\n",
      "0             20       RH         80.0    11622   PAVE    NA      REG   \n",
      "1             20       RL         81.0    14267   PAVE    NA      IR1   \n",
      "2             60       RL         74.0    13830   PAVE    NA      IR1   \n",
      "3             60       RL         78.0     9978   PAVE    NA      IR1   \n",
      "4            120       RL         43.0     5005   PAVE    NA      IR1   \n",
      "...          ...      ...          ...      ...    ...   ...      ...   \n",
      "1454         160       RM         21.0     1936   PAVE    NA      REG   \n",
      "1455         160       RM         21.0     1894   PAVE    NA      REG   \n",
      "1456          20       RL        160.0    20000   PAVE    NA      REG   \n",
      "1457          85       RL         62.0    10441   PAVE    NA      REG   \n",
      "1458          60       RL         74.0     9627   PAVE    NA      REG   \n",
      "\n",
      "     LandContour Utilities LotConfig  ... ScreenPorch PoolArea PoolQC  Fence  \\\n",
      "0            LVL    ALLPUB    INSIDE  ...         120        0     NA  MNPRV   \n",
      "1            LVL    ALLPUB    CORNER  ...           0        0     NA     NA   \n",
      "2            LVL    ALLPUB    INSIDE  ...           0        0     NA  MNPRV   \n",
      "3            LVL    ALLPUB    INSIDE  ...           0        0     NA     NA   \n",
      "4            HLS    ALLPUB    INSIDE  ...         144        0     NA     NA   \n",
      "...          ...       ...       ...  ...         ...      ...    ...    ...   \n",
      "1454         LVL    ALLPUB    INSIDE  ...           0        0     NA     NA   \n",
      "1455         LVL    ALLPUB    INSIDE  ...           0        0     NA     NA   \n",
      "1456         LVL    ALLPUB    INSIDE  ...           0        0     NA     NA   \n",
      "1457         LVL    ALLPUB    INSIDE  ...           0        0     NA  MNPRV   \n",
      "1458         LVL    ALLPUB    INSIDE  ...           0        0     NA     NA   \n",
      "\n",
      "     MiscFeature MiscVal  MoSold  YrSold  SaleType  SaleCondition  \n",
      "0             NA       0       6    2010        WD         NORMAL  \n",
      "1           GAR2   12500       6    2010        WD         NORMAL  \n",
      "2             NA       0       3    2010        WD         NORMAL  \n",
      "3             NA       0       6    2010        WD         NORMAL  \n",
      "4             NA       0       1    2010        WD         NORMAL  \n",
      "...          ...     ...     ...     ...       ...            ...  \n",
      "1454          NA       0       6    2006        WD         NORMAL  \n",
      "1455          NA       0       4    2006        WD        ABNORML  \n",
      "1456          NA       0       9    2006        WD        ABNORML  \n",
      "1457        SHED     700       7    2006        WD         NORMAL  \n",
      "1458          NA       0      11    2006        WD         NORMAL  \n",
      "\n",
      "[1459 rows x 79 columns]\n"
     ]
    }
   ],
   "source": [
    "import pandas as pd\n",
    "import numpy as np\n",
    "\n",
    "\n",
    "def auto_clean_columns(df: pd.DataFrame) -> pd.DataFrame:\n",
    "    df_cleaned = df.copy()\n",
    "\n",
    "    for column in df_cleaned.columns:\n",
    "        values = df_cleaned[column].dropna().unique()\n",
    "\n",
    "        # Pokud vše je číslo nebo 'NA' → převedeme na float\n",
    "        can_be_numeric = True\n",
    "        for v in values:\n",
    "            if isinstance(v, str) and v.strip().upper() == \"NA\":\n",
    "                continue\n",
    "            try:\n",
    "                float(v)\n",
    "            except:\n",
    "                can_be_numeric = False\n",
    "                break\n",
    "\n",
    "        if can_be_numeric:\n",
    "            # Převést \"NA\" na np.nan a sloupec na float\n",
    "            df_cleaned[column] = df_cleaned[column].replace(\"NA\", np.nan)\n",
    "            df_cleaned[column] = pd.to_numeric(df_cleaned[column], errors=\"coerce\")\n",
    "        else:\n",
    "            # ponecháme jako kategorii se stringy\n",
    "            df_cleaned[column] = df_cleaned[column].astype(str).str.strip().str.upper()\n",
    "\n",
    "    return df_cleaned\n",
    "\n",
    "\n",
    "test_data = auto_clean_columns(test_data)\n",
    "print(test_data)"
   ]
  },
  {
   "cell_type": "markdown",
   "metadata": {},
   "source": [
    "## Normalization\n"
   ]
  },
  {
   "cell_type": "code",
   "execution_count": 31,
   "metadata": {},
   "outputs": [],
   "source": [
    "import json\n",
    "import re\n",
    "\n",
    "json_path = \"data_set/generated_description.json\"\n",
    "\n",
    "generated_description = json.load(open(json_path))\n",
    "\n",
    "\n",
    "for column in test_data.columns:\n",
    "    for index, value in test_data[column].items():\n",
    "        # if value == \"NA\":\n",
    "        #     print(column, index, value)\n",
    "        if isinstance(value, str):\n",
    "            try:\n",
    "                test_data.at[index, column] = generated_description[column][\"items\"][\n",
    "                    value.strip().upper()\n",
    "                ][\"id\"]\n",
    "            except:\n",
    "                print(column, index, value, isinstance(value, str))"
   ]
  },
  {
   "cell_type": "code",
   "execution_count": 32,
   "metadata": {},
   "outputs": [
    {
     "name": "stdout",
     "output_type": "stream",
     "text": [
      "   MSSubClass MSZoning  LotFrontage  LotArea Street Alley LotShape  \\\n",
      "0          20        5         80.0    11622      1     0        1   \n",
      "1          20        1         81.0    14267      1     0        2   \n",
      "2          60        1         74.0    13830      1     0        2   \n",
      "3          60        1         78.0     9978      1     0        2   \n",
      "4         120        1         43.0     5005      1     0        2   \n",
      "5          60        1         75.0    10000      1     0        2   \n",
      "6          20        1          NaN     7980      1     0        2   \n",
      "7          60        1         63.0     8402      1     0        2   \n",
      "8          20        1         85.0    10176      1     0        1   \n",
      "9          20        1         70.0     8400      1     0        1   \n",
      "\n",
      "  LandContour Utilities LotConfig  ... ScreenPorch PoolArea PoolQC Fence  \\\n",
      "0           1         1         1  ...         120        0      0     1   \n",
      "1           1         1         3  ...           0        0      0     0   \n",
      "2           1         1         1  ...           0        0      0     1   \n",
      "3           1         1         1  ...           0        0      0     0   \n",
      "4           4         1         1  ...         144        0      0     0   \n",
      "5           1         1         3  ...           0        0      0     0   \n",
      "6           1         1         1  ...           0        0      0     3   \n",
      "7           1         1         1  ...           0        0      0     0   \n",
      "8           1         1         1  ...           0        0      0     0   \n",
      "9           1         1         3  ...           0        0      0     1   \n",
      "\n",
      "  MiscFeature MiscVal  MoSold  YrSold  SaleType  SaleCondition  \n",
      "0           0       0       6    2010         1              1  \n",
      "1           2   12500       6    2010         1              1  \n",
      "2           0       0       3    2010         1              1  \n",
      "3           0       0       6    2010         1              1  \n",
      "4           0       0       1    2010         1              1  \n",
      "5           0       0       4    2010         1              1  \n",
      "6           1     500       3    2010         1              1  \n",
      "7           0       0       5    2010         1              1  \n",
      "8           0       0       2    2010         1              1  \n",
      "9           0       0       4    2010         1              1  \n",
      "\n",
      "[10 rows x 79 columns]\n"
     ]
    }
   ],
   "source": [
    "print(test_data.iloc[:10])"
   ]
  },
  {
   "cell_type": "code",
   "execution_count": 33,
   "metadata": {},
   "outputs": [],
   "source": [
    "mean = test_data.mean(axis=0)\n",
    "# print(mean)\n",
    "std = test_data.std(axis=0)\n",
    "# print(std)\n",
    "\n",
    "train_data = test_data - mean\n",
    "train_data = test_data / std"
   ]
  },
  {
   "cell_type": "code",
   "execution_count": 34,
   "metadata": {},
   "outputs": [],
   "source": [
    "train_data = train_data.astype(\"float32\")\n",
    "target_data = target_data.astype(\"float32\")"
   ]
  },
  {
   "cell_type": "markdown",
   "metadata": {},
   "source": [
    "# Import model\n"
   ]
  },
  {
   "cell_type": "code",
   "execution_count": 35,
   "metadata": {},
   "outputs": [],
   "source": [
    "model = load_model(\"house_prices_0.keras\")"
   ]
  },
  {
   "cell_type": "code",
   "execution_count": 36,
   "metadata": {},
   "outputs": [
    {
     "name": "stdout",
     "output_type": "stream",
     "text": [
      "MSSubClass          0.467870\n",
      "MSZoning            6.228839\n",
      "LotFrontage         3.575125\n",
      "LotArea             2.345265\n",
      "Street             15.620609\n",
      "                    ...     \n",
      "MiscVal             0.000000\n",
      "MoSold              2.203912\n",
      "YrSold           1544.086914\n",
      "SaleType            1.139949\n",
      "SaleCondition       1.063230\n",
      "Name: 0, Length: 79, dtype: float32\n"
     ]
    }
   ],
   "source": [
    "print(train_data.iloc[0])"
   ]
  },
  {
   "cell_type": "code",
   "execution_count": 63,
   "metadata": {},
   "outputs": [
    {
     "name": "stdout",
     "output_type": "stream",
     "text": [
      "\u001b[1m1/1\u001b[0m \u001b[32m━━━━━━━━━━━━━━━━━━━━\u001b[0m\u001b[37m\u001b[0m \u001b[1m0s\u001b[0m 14ms/step"
     ]
    },
    {
     "name": "stdout",
     "output_type": "stream",
     "text": [
      "\u001b[1m1/1\u001b[0m \u001b[32m━━━━━━━━━━━━━━━━━━━━\u001b[0m\u001b[37m\u001b[0m \u001b[1m0s\u001b[0m 30ms/step\n",
      "diff = 26 575 USD | prediction = 142 701 USD | target = 169 277 USD\n"
     ]
    }
   ],
   "source": [
    "i = 0\n",
    "predictions = model.predict(train_data.iloc[[i]])\n",
    "target_value = target_data.iloc[i, 1]\n",
    "\n",
    "\n",
    "diff = int(target_value - predictions[0][0])\n",
    "pred = int(predictions[0][0])\n",
    "target = int(target_value)\n",
    "\n",
    "print(\n",
    "    f\"diff = {format(diff, ',').replace(',', ' ')} USD | \"\n",
    "    f\"prediction = {format(pred, ',').replace(',', ' ')} USD | \"\n",
    "    f\"target = {format(target, ',').replace(',', ' ')} USD\"\n",
    ")"
   ]
  },
  {
   "cell_type": "code",
   "execution_count": 61,
   "metadata": {},
   "outputs": [
    {
     "data": {
      "text/plain": [
       "183583.69"
      ]
     },
     "execution_count": 61,
     "metadata": {},
     "output_type": "execute_result"
    }
   ],
   "source": [
    "target_data.iloc[2, 1]"
   ]
  }
 ],
 "metadata": {
  "kernelspec": {
   "display_name": "Python 3",
   "language": "python",
   "name": "python3"
  },
  "language_info": {
   "codemirror_mode": {
    "name": "ipython",
    "version": 3
   },
   "file_extension": ".py",
   "mimetype": "text/x-python",
   "name": "python",
   "nbconvert_exporter": "python",
   "pygments_lexer": "ipython3",
   "version": "3.11.9"
  }
 },
 "nbformat": 4,
 "nbformat_minor": 2
}
