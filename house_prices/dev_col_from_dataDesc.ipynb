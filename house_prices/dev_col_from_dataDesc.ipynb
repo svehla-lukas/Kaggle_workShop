{
 "cells": [
  {
   "cell_type": "code",
   "execution_count": 2,
   "metadata": {},
   "outputs": [],
   "source": [
    "import sys\n",
    "import os\n",
    "\n",
    "sys.path.append(os.path.abspath(\"..\"))\n",
    "import utils\n",
    "import pandas as pd\n",
    "import numpy as np\n",
    "import matplotlib.pyplot as plt\n",
    "from sklearn.preprocessing import StandardScaler\n",
    "from sklearn.model_selection import train_test_split\n",
    "\n",
    "import time"
   ]
  },
  {
   "cell_type": "code",
   "execution_count": 3,
   "metadata": {},
   "outputs": [],
   "source": [
    "def parse_category_txt(path: str) -> dict:\n",
    "    import re\n",
    "\n",
    "    category_map = {}\n",
    "    current_key = None\n",
    "\n",
    "    with open(path, \"r\", encoding=\"utf-8\") as f:\n",
    "        for line in f:\n",
    "            line = line.strip()\n",
    "            if not line:\n",
    "                continue\n",
    "\n",
    "            # Detekce nového klíče\n",
    "            if \":\" in line:\n",
    "                # Příklad: \"MSZoning: Identifies the zoning...\"\n",
    "                current_key = line.split(\":\")[0].strip()\n",
    "                category_map[current_key] = []\n",
    "            elif current_key:\n",
    "                # Detekuj platnou hodnotu - první \"slovo\" na řádku\n",
    "                parts = re.split(r\"\\s+\", line)\n",
    "                if parts and len(parts[0]) > 0:\n",
    "                    # Zajistí, že nepřidáme omylem prázdný řetězec\n",
    "                    category_map[current_key].append(parts[0])\n",
    "\n",
    "    return category_map\n",
    "\n",
    "\n",
    "data_categories = parse_category_txt(\"data_set\\data_description.txt\")"
   ]
  },
  {
   "cell_type": "code",
   "execution_count": 4,
   "metadata": {},
   "outputs": [
    {
     "data": {
      "text/plain": [
       "79"
      ]
     },
     "execution_count": 4,
     "metadata": {},
     "output_type": "execute_result"
    }
   ],
   "source": [
    "len(data_categories.keys())"
   ]
  },
  {
   "cell_type": "markdown",
   "metadata": {},
   "source": [
    "# Load Data\n"
   ]
  },
  {
   "cell_type": "markdown",
   "metadata": {},
   "source": [
    "Load train data\n"
   ]
  },
  {
   "cell_type": "code",
   "execution_count": 5,
   "metadata": {},
   "outputs": [
    {
     "name": "stdout",
     "output_type": "stream",
     "text": [
      "Successfully loaded data from data_set/train.csv\n",
      "dimension train data: (1460, 81)\n",
      "dimension train data: <class 'pandas.core.frame.DataFrame'>\n"
     ]
    }
   ],
   "source": [
    "path_train_data = \"data_set/train.csv\"\n",
    "\n",
    "df = utils.load_csv_data(path_train_data)\n",
    "\n",
    "# Print the loaded data\n",
    "if isinstance(df, pd.DataFrame):\n",
    "    print(f\"dimension train data: {df.shape}\")\n",
    "    print(f\"dimension train data: {type(df)}\")\n",
    "else:\n",
    "    print(\"train_data is not a DataFrame\")\n",
    "\n",
    "del path_train_data"
   ]
  },
  {
   "cell_type": "markdown",
   "metadata": {},
   "source": [
    "## use One-hot and scaler to prepare train data\n"
   ]
  },
  {
   "cell_type": "code",
   "execution_count": 6,
   "metadata": {},
   "outputs": [
    {
     "name": "stdout",
     "output_type": "stream",
     "text": [
      "\n",
      "(1168, 902)\n"
     ]
    }
   ],
   "source": [
    "import pandas as pd\n",
    "from sklearn.preprocessing import StandardScaler\n",
    "from sklearn.model_selection import train_test_split\n",
    "\n",
    "try:\n",
    "    del x_encoded\n",
    "except:\n",
    "    print()\n",
    "\n",
    "\n",
    "def ensure_all_dummies(df: pd.DataFrame, data_categories: dict) -> pd.DataFrame:\n",
    "    \"\"\"\n",
    "    Ensures that all expected dummy columns exist in the DataFrame.\n",
    "    Adds missing columns with zero values in bulk to avoid fragmentation.\n",
    "    \"\"\"\n",
    "    missing_cols = []\n",
    "    for col, values in data_categories.items():\n",
    "        for val in values:\n",
    "            dummy_col = f\"{col}_{val}\"\n",
    "            if dummy_col not in df.columns:\n",
    "                missing_cols.append(dummy_col)\n",
    "\n",
    "    if missing_cols:\n",
    "        missing_df = pd.DataFrame(0, index=df.index, columns=missing_cols)\n",
    "        df = pd.concat([df, missing_df], axis=1)\n",
    "\n",
    "    return df\n",
    "\n",
    "\n",
    "# 0. Extract and scale the target column\n",
    "scaler_sale_price = StandardScaler()\n",
    "y = scaler_sale_price.fit_transform(df[[\"SalePrice\"]])  # shape: (n_samples, 1)\n",
    "\n",
    "x = df.copy()\n",
    "if \"SalePrice\" in x.columns:\n",
    "    x = x.drop(\"SalePrice\", axis=1)\n",
    "if \"Id\" in x.columns:\n",
    "    x = x.drop(\"Id\", axis=1)\n",
    "\n",
    "# 1. Split columns by data type\n",
    "numerical_cols = x.select_dtypes(include=[\"int64\", \"float64\"]).columns.tolist()\n",
    "categorical_cols = x.select_dtypes(include=[\"object\"]).columns.tolist()\n",
    "\n",
    "# 2. Handle missing values\n",
    "x[categorical_cols] = x[categorical_cols].fillna(\"NA\")\n",
    "x[numerical_cols] = x[numerical_cols].fillna(-1)\n",
    "\n",
    "for col in data_categories.keys():\n",
    "    if not col in x.columns:\n",
    "        print(col)\n",
    "        break\n",
    "\n",
    "# 3. One-hot encode categorical features\n",
    "x_encoded = pd.get_dummies(x, columns=categorical_cols)\n",
    "\n",
    "# Ensure all dummy columns exist\n",
    "x_encoded = ensure_all_dummies(x_encoded, data_categories)\n",
    "\n",
    "# 4. Normalize numerical features\n",
    "scaler_inputData = StandardScaler()\n",
    "x_encoded[numerical_cols] = scaler_inputData.fit_transform(x_encoded[numerical_cols])\n",
    "\n",
    "# 5. Define feature matrix\n",
    "x = x_encoded\n",
    "\n",
    "# 6. Split into training and validation sets\n",
    "x_train_pd, x_val_pd, y_train_pd, y_val_pd = train_test_split(\n",
    "    x, y, test_size=0.2, random_state=42\n",
    ")\n",
    "\n",
    "# 7. Convert to NumPy arrays and cast to float32\n",
    "x_train = x_train_pd.to_numpy().astype(\"float32\")\n",
    "x_val = x_val_pd.to_numpy().astype(\"float32\")\n",
    "y_train = y_train_pd.astype(\"float32\")\n",
    "y_val = y_val_pd.astype(\"float32\")\n",
    "\n",
    "# 8. Save original train columns for reuse\n",
    "train_columns = x_encoded.columns.tolist()\n",
    "\n",
    "print(x_train.shape)"
   ]
  },
  {
   "cell_type": "code",
   "execution_count": 7,
   "metadata": {},
   "outputs": [
    {
     "name": "stdout",
     "output_type": "stream",
     "text": [
      "(1168, 902)\n",
      "(1168, 902)\n",
      "(292, 902)\n",
      "(292, 902)\n",
      "(1168, 1)\n",
      "(1168, 1)\n",
      "(292, 1)\n",
      "(292, 1)\n"
     ]
    }
   ],
   "source": [
    "print(x_train_pd.shape)\n",
    "print(x_train.shape)\n",
    "print(x_val_pd.shape)\n",
    "print(x_val.shape)\n",
    "print(y_train_pd.shape)\n",
    "print(y_train.shape)\n",
    "print(y_val_pd.shape)\n",
    "print(y_val.shape)"
   ]
  },
  {
   "cell_type": "code",
   "execution_count": 8,
   "metadata": {},
   "outputs": [
    {
     "name": "stdout",
     "output_type": "stream",
     "text": [
      "<class 'pandas.core.frame.DataFrame'>\n",
      "<class 'pandas.core.frame.DataFrame'>\n",
      "<class 'numpy.ndarray'>\n",
      "<class 'numpy.ndarray'>\n",
      "<class 'numpy.ndarray'>\n",
      "<class 'numpy.ndarray'>\n",
      "<class 'numpy.ndarray'>\n",
      "<class 'numpy.ndarray'>\n"
     ]
    }
   ],
   "source": [
    "print(type(x_train_pd))\n",
    "print(type(x_val_pd))\n",
    "print(type(y_train_pd))\n",
    "print(type(y_val_pd))\n",
    "print(type(x_train))\n",
    "print(type(x_val))\n",
    "print(type(y_train))\n",
    "print(type(y_val))"
   ]
  },
  {
   "cell_type": "code",
   "execution_count": 9,
   "metadata": {},
   "outputs": [
    {
     "name": "stdout",
     "output_type": "stream",
     "text": [
      "902\n"
     ]
    }
   ],
   "source": [
    "print(x_train.shape[1])"
   ]
  },
  {
   "cell_type": "code",
   "execution_count": 12,
   "metadata": {},
   "outputs": [],
   "source": [
    "from tensorflow.keras.models import Sequential\n",
    "from tensorflow.keras.layers import Dense, Dropout, BatchNormalization\n",
    "from tensorflow.keras.callbacks import EarlyStopping\n",
    "from tensorflow.keras.regularizers import l2\n",
    "\n",
    "start = time.time()\n",
    "\n",
    "early_stop = EarlyStopping(monitor=\"val_mae\", patience=5, restore_best_weights=True)\n",
    "\n",
    "\n",
    "# model = Sequential(\n",
    "#     [\n",
    "#         Dense(64, activation=\"relu\", input_shape=(x_train.shape[1],)),\n",
    "#         BatchNormalization(),\n",
    "#         Dropout(0.5),\n",
    "#         Dense(32, activation=\"relu\"),\n",
    "#         Dense(1),\n",
    "#     ]\n",
    "# )\n",
    "\n",
    "model = Sequential(\n",
    "    [\n",
    "        Dense(\n",
    "            64,\n",
    "            activation=\"relu\",\n",
    "            input_shape=(x_train.shape[1],),\n",
    "            kernel_regularizer=l2(0.01),\n",
    "        ),\n",
    "        BatchNormalization(),\n",
    "        Dropout(0.6),\n",
    "        Dense(32, activation=\"relu\", kernel_regularizer=l2(0.01)),\n",
    "        BatchNormalization(),\n",
    "        Dropout(0.6),\n",
    "        Dense(16, activation=\"relu\", kernel_regularizer=l2(0.01)),\n",
    "        Dense(1),\n",
    "    ]\n",
    ")\n",
    "\n",
    "model.compile(optimizer=\"adam\", loss=\"mse\", metrics=[\"mae\"])\n",
    "\n",
    "history = model.fit(\n",
    "    x_train,\n",
    "    y_train,\n",
    "    epochs=30,\n",
    "    validation_data=(x_val, y_val),\n",
    "    batch_size=64,\n",
    "    callbacks=[early_stop],\n",
    "    # verbose=0,\n",
    ")\n",
    "\n",
    "print(f\"🕒 Celkový čas trénování: {time.time() - start:.2f} s\")\n",
    "\n",
    "val_mse, val_mae = model.evaluate(x_val, y_val, verbose=0)\n",
    "print(f\"- ✅ finished: val_mae = {val_mae:.2f}\")\n",
    "print(f\"- ✅ finished: val_mse = {val_mse:.2f}\")\n",
    "\n",
    "val_mae_usd = val_mae * scaler_sale_price.scale_[0]\n",
    "val_rmse_usd = (val_mse * (scaler_sale_price.scale_[0] ** 2)) ** 0.5\n",
    "print(f\"- ✅ finished: val_mae = {val_mae:.2f} → ~${val_mae_usd:,.0f}\")\n",
    "print(f\"- ✅ finished: val_rmse → ~${val_rmse_usd:,.0f}\")\n",
    "\n",
    "\n",
    "_ = utils.plot_rescaled_history(history.history, metric=\"mae\", scaler=scaler_sale_price)"
   ]
  },
  {
   "cell_type": "markdown",
   "metadata": {},
   "source": [
    "# Test build model\n"
   ]
  },
  {
   "cell_type": "markdown",
   "metadata": {},
   "source": [
    "## Test on validation data\n"
   ]
  },
  {
   "cell_type": "code",
   "execution_count": null,
   "metadata": {},
   "outputs": [],
   "source": [
    "# 11. Předpověď na testovacích datech\n",
    "y_pred_scaled = model.predict(x_val)\n",
    "\n",
    "# 12. Inverze zpět na reálné ceny\n",
    "y_pred_real = scaler_sale_price.inverse_transform(y_pred_scaled)\n",
    "y_test_real = scaler_sale_price.inverse_transform(y_val.reshape(-1, 1))\n",
    "\n",
    "# 13. Výstup porovnání\n",
    "results = pd.DataFrame(\n",
    "    {\"Actual\": y_test_real.flatten(), \"Predicted\": y_pred_real.flatten()}\n",
    ")\n",
    "\n",
    "count = 50\n",
    "# print(results.head(count))\n",
    "\n",
    "plt.figure(figsize=(10, 6))\n",
    "plt.plot(results[\"Actual\"][:count], marker=\"o\", label=\"Real value [USD]\")\n",
    "plt.plot(results[\"Predicted\"][:count], marker=\"o\", label=\"Predicted value [USD]\")\n",
    "plt.title(\"Compare prediction vs. real (train data)\")\n",
    "plt.xlabel(\"House index\")\n",
    "plt.ylabel(\"price [USD]\")\n",
    "plt.legend()\n",
    "plt.grid(True)\n",
    "plt.show()"
   ]
  },
  {
   "cell_type": "markdown",
   "metadata": {},
   "source": [
    "## Test on test data\n"
   ]
  },
  {
   "cell_type": "markdown",
   "metadata": {},
   "source": [
    "Load test data\n"
   ]
  },
  {
   "cell_type": "code",
   "execution_count": null,
   "metadata": {},
   "outputs": [],
   "source": [
    "path_test_data = \"data_set/test.csv\"\n",
    "path_submission_data = \"data_set/sample_submission.csv\"\n",
    "\n",
    "test_data_df = utils.load_csv_data(path_test_data)\n",
    "y_target_df = utils.load_csv_data(path_submission_data)\n",
    "\n",
    "# Print the loaded data\n",
    "if isinstance(test_data_df, pd.DataFrame):\n",
    "    print(f\"dimension train data: {test_data_df.shape}\")\n",
    "    print(f\"dimension train data: {type(test_data_df)}\")\n",
    "else:\n",
    "    print(\"train_data is not a DataFrame\")\n",
    "\n",
    "# Print the loaded data\n",
    "if isinstance(y_target_df, pd.DataFrame):\n",
    "    print(f\"dimension train data: {y_target_df.shape}\")\n",
    "    print(f\"dimension train data: {type(y_target_df)}\")\n",
    "else:\n",
    "    print(\"train_data is not a DataFrame\")\n",
    "\n",
    "del path_test_data, path_submission_data"
   ]
  },
  {
   "cell_type": "code",
   "execution_count": null,
   "metadata": {},
   "outputs": [],
   "source": [
    "print(type(test_data_df))\n",
    "print(type(y_target_df))\n",
    "print(test_data_df.shape)\n",
    "print(y_target_df.shape)"
   ]
  },
  {
   "cell_type": "code",
   "execution_count": 31,
   "metadata": {},
   "outputs": [],
   "source": [
    "try:\n",
    "    del x_target_encoded\n",
    "except:\n",
    "    print()\n",
    "\n",
    "\n",
    "x_target = test_data_df.copy()\n",
    "\n",
    "# 1. Drop nepotřebné sloupce\n",
    "if \"SalePrice\" in x_target.columns:\n",
    "    x_target = x_target.drop(\"SalePrice\", axis=1)\n",
    "if \"Id\" in x_target.columns:\n",
    "    x_target = x_target.drop(\"Id\", axis=1)\n",
    "\n",
    "# 2. Missing values\n",
    "x_target[categorical_cols] = x_target[categorical_cols].fillna(\"NA\")\n",
    "x_target[numerical_cols] = x_target[numerical_cols].fillna(-1)\n",
    "\n",
    "# 3. One-hot encoding\n",
    "x_target_encoded = pd.get_dummies(x_target, columns=categorical_cols)\n",
    "\n",
    "# 4. Doplnění chybějících dummy sloupců\n",
    "x_target_encoded = ensure_all_dummies(x_target_encoded, data_categories)\n",
    "\n",
    "# 5. Znovu uspořádat a doplnit sloupce přesně podle train_columns\n",
    "x_target_encoded = x_target_encoded.reindex(columns=train_columns, fill_value=0)\n",
    "\n",
    "x_target_encoded[numerical_cols] = (\n",
    "    x_target_encoded[numerical_cols].apply(pd.to_numeric, errors=\"coerce\").fillna(-1)\n",
    ")\n",
    "\n",
    "\n",
    "x_target_encoded[numerical_cols] = scaler_inputData.transform(\n",
    "    x_target_encoded[numerical_cols]\n",
    ")\n",
    "\n",
    "x_target_df = x_target_encoded.copy()\n",
    "\n",
    "if \"Id\" in y_target_df.columns:\n",
    "    y_target_df = y_target_df.drop(\"Id\", axis=1)\n",
    "y_target = y_target_df.to_numpy().astype(\"float32\")\n",
    "\n",
    "x_target = x_target_df.to_numpy().astype(\"float32\")"
   ]
  },
  {
   "cell_type": "code",
   "execution_count": null,
   "metadata": {},
   "outputs": [],
   "source": [
    "print(type(x_target))\n",
    "print(type(y_target))\n",
    "print(type(x_target_df))\n",
    "print(x_target.shape)\n",
    "print(y_target.shape)\n",
    "print(x_target_df.shape)"
   ]
  },
  {
   "cell_type": "code",
   "execution_count": 40,
   "metadata": {},
   "outputs": [],
   "source": []
  },
  {
   "cell_type": "code",
   "execution_count": null,
   "metadata": {},
   "outputs": [],
   "source": [
    "y_pred_scaled = model.predict(x_target)\n",
    "\n",
    "y_pred_real = scaler_sale_price.inverse_transform(y_pred_scaled)\n",
    "y_test_real = y_target.reshape(-1, 1)\n",
    "\n",
    "results = pd.DataFrame(\n",
    "    {\"Actual\": y_test_real.flatten(), \"Predicted\": y_pred_real.flatten()}\n",
    ")\n",
    "\n",
    "count = 50\n",
    "# print(round(results.head(count)))\n",
    "\n",
    "plt.figure(figsize=(10, 6))\n",
    "plt.plot(results[\"Actual\"][:count], marker=\"o\", label=\"Real value [USD]\")\n",
    "plt.plot(results[\"Predicted\"][:count], marker=\"o\", label=\"Predicted value [USD]\")\n",
    "plt.title(\"Compare prediction vs. real (target data)\")\n",
    "plt.xlabel(\"House index\")\n",
    "plt.ylabel(\"price [USD]\")\n",
    "plt.legend()\n",
    "plt.grid(True)\n",
    "plt.show()"
   ]
  },
  {
   "cell_type": "code",
   "execution_count": null,
   "metadata": {},
   "outputs": [],
   "source": [
    "x_target[0]"
   ]
  },
  {
   "cell_type": "code",
   "execution_count": null,
   "metadata": {},
   "outputs": [],
   "source": [
    "x_val"
   ]
  },
  {
   "cell_type": "code",
   "execution_count": null,
   "metadata": {},
   "outputs": [],
   "source": [
    "print(x_val.shape)\n",
    "print(x_target.shape)"
   ]
  },
  {
   "cell_type": "code",
   "execution_count": null,
   "metadata": {},
   "outputs": [],
   "source": [
    "print(x_val_pd.columns)\n",
    "print(x_target_df.columns)\n",
    "are_columns_equal = x_val_pd.columns.equals(x_target_df.columns)\n",
    "print(are_columns_equal)  # check names and order"
   ]
  }
 ],
 "metadata": {
  "kernelspec": {
   "display_name": "Python 3",
   "language": "python",
   "name": "python3"
  },
  "language_info": {
   "codemirror_mode": {
    "name": "ipython",
    "version": 3
   },
   "file_extension": ".py",
   "mimetype": "text/x-python",
   "name": "python",
   "nbconvert_exporter": "python",
   "pygments_lexer": "ipython3",
   "version": "3.11.9"
  }
 },
 "nbformat": 4,
 "nbformat_minor": 2
}
